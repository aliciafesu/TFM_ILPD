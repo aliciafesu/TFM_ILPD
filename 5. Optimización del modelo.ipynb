{
 "cells": [
  {
   "cell_type": "markdown",
   "id": "fbf88556",
   "metadata": {},
   "source": [
    "# Optimización del modelo Naive Bayes \n",
    "\n",
    "Algunas de las estrategias que mejor funcionan para mejorar las métricas del algoritmo Naive-Bayes son las siguientes: \n",
    "- Evaluación datos desbalanceados\n",
    "- Revisar la correlación entre variables: cuando dos variables presentan una fuerte correlación el algoritmo las tendrá en cuenta, duplicando su importancia y por lo tanto empeorando el algoritmo. Es importante eliminar variables con elevada correlación. \n"
   ]
  },
  {
   "cell_type": "code",
   "execution_count": 73,
   "id": "2416e252",
   "metadata": {},
   "outputs": [],
   "source": [
    "# numpy and pandas for data manipulation\n",
    "import numpy as np\n",
    "import pandas as pd \n",
    "\n",
    "# File system manangement\n",
    "import os\n",
    "\n",
    "# Suppress warnings \n",
    "import warnings\n",
    "warnings.filterwarnings('ignore')\n",
    "\n",
    "# matplotlib and seaborn for plotting\n",
    "import matplotlib.pyplot as plt\n",
    "import seaborn as sns\n",
    "\n",
    "# pycaret\n",
    "from pycaret.classification import *\n",
    "\n",
    "# datos desbalanceados \n",
    "import imblearn\n",
    "from imblearn.over_sampling import RandomOverSampler \n",
    "from imblearn.under_sampling import RandomUnderSampler \n",
    "from imblearn.over_sampling import SMOTE\n",
    "from imblearn.under_sampling import NearMiss\n",
    "\n",
    "from sklearn.model_selection import train_test_split\n",
    "from sklearn.naive_bayes import GaussianNB\n",
    "\n",
    "# metricas\n",
    "from sklearn.metrics import accuracy_score\n",
    "from sklearn.metrics import classification_report\n",
    "from sklearn.metrics import confusion_matrix,accuracy_score\n",
    "from sklearn.metrics import cohen_kappa_score"
   ]
  },
  {
   "cell_type": "code",
   "execution_count": 74,
   "id": "1f39258b",
   "metadata": {},
   "outputs": [
    {
     "data": {
      "text/html": [
       "<div>\n",
       "<style scoped>\n",
       "    .dataframe tbody tr th:only-of-type {\n",
       "        vertical-align: middle;\n",
       "    }\n",
       "\n",
       "    .dataframe tbody tr th {\n",
       "        vertical-align: top;\n",
       "    }\n",
       "\n",
       "    .dataframe thead th {\n",
       "        text-align: right;\n",
       "    }\n",
       "</style>\n",
       "<table border=\"1\" class=\"dataframe\">\n",
       "  <thead>\n",
       "    <tr style=\"text-align: right;\">\n",
       "      <th></th>\n",
       "      <th>Age</th>\n",
       "      <th>Gender</th>\n",
       "      <th>TB</th>\n",
       "      <th>DB</th>\n",
       "      <th>Alkphos</th>\n",
       "      <th>Sgpt</th>\n",
       "      <th>Sgot</th>\n",
       "      <th>TP</th>\n",
       "      <th>ALB</th>\n",
       "      <th>AG</th>\n",
       "      <th>Status</th>\n",
       "    </tr>\n",
       "  </thead>\n",
       "  <tbody>\n",
       "    <tr>\n",
       "      <th>0</th>\n",
       "      <td>62</td>\n",
       "      <td>1</td>\n",
       "      <td>10.9</td>\n",
       "      <td>5.5</td>\n",
       "      <td>699</td>\n",
       "      <td>64</td>\n",
       "      <td>100</td>\n",
       "      <td>7.5</td>\n",
       "      <td>3.2</td>\n",
       "      <td>0.74</td>\n",
       "      <td>1</td>\n",
       "    </tr>\n",
       "    <tr>\n",
       "      <th>1</th>\n",
       "      <td>62</td>\n",
       "      <td>1</td>\n",
       "      <td>7.3</td>\n",
       "      <td>4.1</td>\n",
       "      <td>490</td>\n",
       "      <td>60</td>\n",
       "      <td>68</td>\n",
       "      <td>7.0</td>\n",
       "      <td>3.3</td>\n",
       "      <td>0.89</td>\n",
       "      <td>1</td>\n",
       "    </tr>\n",
       "    <tr>\n",
       "      <th>2</th>\n",
       "      <td>58</td>\n",
       "      <td>1</td>\n",
       "      <td>1.0</td>\n",
       "      <td>0.4</td>\n",
       "      <td>182</td>\n",
       "      <td>14</td>\n",
       "      <td>20</td>\n",
       "      <td>6.8</td>\n",
       "      <td>3.4</td>\n",
       "      <td>1.00</td>\n",
       "      <td>1</td>\n",
       "    </tr>\n",
       "    <tr>\n",
       "      <th>3</th>\n",
       "      <td>72</td>\n",
       "      <td>1</td>\n",
       "      <td>3.9</td>\n",
       "      <td>2.0</td>\n",
       "      <td>195</td>\n",
       "      <td>27</td>\n",
       "      <td>59</td>\n",
       "      <td>7.3</td>\n",
       "      <td>2.4</td>\n",
       "      <td>0.40</td>\n",
       "      <td>1</td>\n",
       "    </tr>\n",
       "    <tr>\n",
       "      <th>4</th>\n",
       "      <td>46</td>\n",
       "      <td>1</td>\n",
       "      <td>1.8</td>\n",
       "      <td>0.7</td>\n",
       "      <td>208</td>\n",
       "      <td>19</td>\n",
       "      <td>14</td>\n",
       "      <td>7.6</td>\n",
       "      <td>4.4</td>\n",
       "      <td>1.30</td>\n",
       "      <td>1</td>\n",
       "    </tr>\n",
       "  </tbody>\n",
       "</table>\n",
       "</div>"
      ],
      "text/plain": [
       "   Age  Gender    TB   DB  Alkphos  Sgpt  Sgot   TP  ALB    AG  Status\n",
       "0   62       1  10.9  5.5      699    64   100  7.5  3.2  0.74       1\n",
       "1   62       1   7.3  4.1      490    60    68  7.0  3.3  0.89       1\n",
       "2   58       1   1.0  0.4      182    14    20  6.8  3.4  1.00       1\n",
       "3   72       1   3.9  2.0      195    27    59  7.3  2.4  0.40       1\n",
       "4   46       1   1.8  0.7      208    19    14  7.6  4.4  1.30       1"
      ]
     },
     "execution_count": 74,
     "metadata": {},
     "output_type": "execute_result"
    }
   ],
   "source": [
    "path ='LiverPatient.csv'\n",
    "\n",
    "all_data =pd.read_csv(path, header =0)\n",
    "# Add column names \n",
    "all_data.columns= ['Age', 'Gender', 'TB', 'DB', 'Alkphos', 'Sgpt', 'Sgot', 'TP', 'ALB', 'AG', 'Status']\n",
    "\n",
    "# Transform Gender to categorical \n",
    "all_data['Gender'].replace('Female',0 ,inplace=True)\n",
    "all_data['Gender'].replace('Male',1,inplace=True)\n",
    "\n",
    "all_data.head()"
   ]
  },
  {
   "cell_type": "markdown",
   "id": "ee63897c",
   "metadata": {},
   "source": [
    "## 2. Pre-procesamiento \n",
    "Se transforma la variable 'Gender' a categórica. "
   ]
  },
  {
   "cell_type": "code",
   "execution_count": 75,
   "id": "02d9adc7",
   "metadata": {},
   "outputs": [],
   "source": [
    "# Drop missing values \n",
    "all_data = all_data.dropna()"
   ]
  },
  {
   "cell_type": "code",
   "execution_count": 76,
   "id": "58916264",
   "metadata": {},
   "outputs": [
    {
     "data": {
      "text/html": [
       "<div>\n",
       "<style scoped>\n",
       "    .dataframe tbody tr th:only-of-type {\n",
       "        vertical-align: middle;\n",
       "    }\n",
       "\n",
       "    .dataframe tbody tr th {\n",
       "        vertical-align: top;\n",
       "    }\n",
       "\n",
       "    .dataframe thead th {\n",
       "        text-align: right;\n",
       "    }\n",
       "</style>\n",
       "<table border=\"1\" class=\"dataframe\">\n",
       "  <thead>\n",
       "    <tr style=\"text-align: right;\">\n",
       "      <th></th>\n",
       "      <th>Age</th>\n",
       "      <th>Gender</th>\n",
       "      <th>TB</th>\n",
       "      <th>DB</th>\n",
       "      <th>Alkphos</th>\n",
       "      <th>Sgpt</th>\n",
       "      <th>Sgot</th>\n",
       "      <th>TP</th>\n",
       "      <th>ALB</th>\n",
       "      <th>AG</th>\n",
       "      <th>Status</th>\n",
       "    </tr>\n",
       "  </thead>\n",
       "  <tbody>\n",
       "    <tr>\n",
       "      <th>0</th>\n",
       "      <td>62</td>\n",
       "      <td>1</td>\n",
       "      <td>10.9</td>\n",
       "      <td>5.5</td>\n",
       "      <td>699</td>\n",
       "      <td>64</td>\n",
       "      <td>100</td>\n",
       "      <td>7.5</td>\n",
       "      <td>3.2</td>\n",
       "      <td>0.74</td>\n",
       "      <td>0</td>\n",
       "    </tr>\n",
       "    <tr>\n",
       "      <th>1</th>\n",
       "      <td>62</td>\n",
       "      <td>1</td>\n",
       "      <td>7.3</td>\n",
       "      <td>4.1</td>\n",
       "      <td>490</td>\n",
       "      <td>60</td>\n",
       "      <td>68</td>\n",
       "      <td>7.0</td>\n",
       "      <td>3.3</td>\n",
       "      <td>0.89</td>\n",
       "      <td>0</td>\n",
       "    </tr>\n",
       "    <tr>\n",
       "      <th>2</th>\n",
       "      <td>58</td>\n",
       "      <td>1</td>\n",
       "      <td>1.0</td>\n",
       "      <td>0.4</td>\n",
       "      <td>182</td>\n",
       "      <td>14</td>\n",
       "      <td>20</td>\n",
       "      <td>6.8</td>\n",
       "      <td>3.4</td>\n",
       "      <td>1.00</td>\n",
       "      <td>0</td>\n",
       "    </tr>\n",
       "    <tr>\n",
       "      <th>3</th>\n",
       "      <td>72</td>\n",
       "      <td>1</td>\n",
       "      <td>3.9</td>\n",
       "      <td>2.0</td>\n",
       "      <td>195</td>\n",
       "      <td>27</td>\n",
       "      <td>59</td>\n",
       "      <td>7.3</td>\n",
       "      <td>2.4</td>\n",
       "      <td>0.40</td>\n",
       "      <td>0</td>\n",
       "    </tr>\n",
       "    <tr>\n",
       "      <th>4</th>\n",
       "      <td>46</td>\n",
       "      <td>1</td>\n",
       "      <td>1.8</td>\n",
       "      <td>0.7</td>\n",
       "      <td>208</td>\n",
       "      <td>19</td>\n",
       "      <td>14</td>\n",
       "      <td>7.6</td>\n",
       "      <td>4.4</td>\n",
       "      <td>1.30</td>\n",
       "      <td>0</td>\n",
       "    </tr>\n",
       "  </tbody>\n",
       "</table>\n",
       "</div>"
      ],
      "text/plain": [
       "   Age  Gender    TB   DB  Alkphos  Sgpt  Sgot   TP  ALB    AG  Status\n",
       "0   62       1  10.9  5.5      699    64   100  7.5  3.2  0.74       0\n",
       "1   62       1   7.3  4.1      490    60    68  7.0  3.3  0.89       0\n",
       "2   58       1   1.0  0.4      182    14    20  6.8  3.4  1.00       0\n",
       "3   72       1   3.9  2.0      195    27    59  7.3  2.4  0.40       0\n",
       "4   46       1   1.8  0.7      208    19    14  7.6  4.4  1.30       0"
      ]
     },
     "execution_count": 76,
     "metadata": {},
     "output_type": "execute_result"
    }
   ],
   "source": [
    "data = np.array(all_data['Status']).copy()\n",
    "data[data == 1] = 0\n",
    "data[data == 2] = 1\n",
    "dataset = all_data\n",
    "dataset.drop('Status', inplace=True, axis=1)\n",
    "\n",
    "dataset['Status'] = data.tolist()\n",
    "\n",
    "dataset.head()"
   ]
  },
  {
   "cell_type": "markdown",
   "id": "f859efa9",
   "metadata": {},
   "source": [
    "## 2.1. Datos desbalanceados\n",
    "\n",
    "Como se ha visto en el EDA, la variable 'Status' está fuertemente desbalanceada, así que se ha decidido evaluar algunas estrategias que ayudan a minimizar este problema: \n",
    "- Random oversampling: se generan datos aleatoriamente para que caso con menos datos iguale en número al que tiene más. \n",
    "- Random undersampling: de manera contraria, se reduce el dataset de manera aleatoria hasta que se igualan por abajo. \n",
    "- NearMiss: es otra técnica de undersampling que igualará las dos categorías\n",
    "- SMOTE: utiliza k-vecinos mas cercanos para generar nuevos datos e igualar las categorías en el número más alto"
   ]
  },
  {
   "cell_type": "code",
   "execution_count": 77,
   "id": "ffefdf02",
   "metadata": {},
   "outputs": [
    {
     "data": {
      "text/plain": [
       "0    413\n",
       "1    413\n",
       "Name: Status, dtype: int64"
      ]
     },
     "execution_count": 77,
     "metadata": {},
     "output_type": "execute_result"
    }
   ],
   "source": [
    "# random oversampling \n",
    "oversample = RandomOverSampler(sampling_strategy='minority')\n",
    "X_resampled, y_resampled = oversample.fit_resample(dataset.iloc[:,0:10], dataset['Status'])\n",
    "data_oversampled = pd.concat([pd.DataFrame(X_resampled), pd.DataFrame(y_resampled)], axis=1)\n",
    "data_oversampled.columns = dataset.columns\n",
    "data_oversampled['Status'].value_counts()"
   ]
  },
  {
   "cell_type": "code",
   "execution_count": 78,
   "id": "cff4180d",
   "metadata": {},
   "outputs": [
    {
     "data": {
      "text/plain": [
       "0    165\n",
       "1    165\n",
       "Name: Status, dtype: int64"
      ]
     },
     "execution_count": 78,
     "metadata": {},
     "output_type": "execute_result"
    }
   ],
   "source": [
    "# Random undersampling\n",
    "undersample = RandomUnderSampler(sampling_strategy='majority')\n",
    "X_resampled, y_resampled = undersample.fit_resample(all_data.iloc[:,0:10], all_data['Status'])\n",
    "data_undersampled = pd.concat([pd.DataFrame(X_resampled), pd.DataFrame(y_resampled)], axis=1)\n",
    "data_undersampled.columns = all_data.columns\n",
    "data_undersampled['Status'].value_counts()"
   ]
  },
  {
   "cell_type": "code",
   "execution_count": 79,
   "id": "ed75be79",
   "metadata": {},
   "outputs": [
    {
     "data": {
      "text/plain": [
       "0    165\n",
       "1    165\n",
       "Name: Status, dtype: int64"
      ]
     },
     "execution_count": 79,
     "metadata": {},
     "output_type": "execute_result"
    }
   ],
   "source": [
    "# NearMiss\n",
    "nm = NearMiss()\n",
    "\n",
    "x_nm, y_nm = nm.fit_resample(all_data.iloc[:,0:10], all_data['Status'])\n",
    "\n",
    "data_nm = pd.concat([pd.DataFrame(x_nm), pd.DataFrame(y_nm)], axis=1)\n",
    "data_nm.columns = all_data.columns\n",
    "data_nm['Status'].value_counts()"
   ]
  },
  {
   "cell_type": "code",
   "execution_count": 80,
   "id": "7d076e97",
   "metadata": {},
   "outputs": [
    {
     "data": {
      "text/plain": [
       "0    413\n",
       "1    413\n",
       "Name: Status, dtype: int64"
      ]
     },
     "execution_count": 80,
     "metadata": {},
     "output_type": "execute_result"
    }
   ],
   "source": [
    "#SMOTE\n",
    "sm = SMOTE()\n",
    "x_sm, y_sm = sm.fit_resample(all_data.iloc[:,0:10], all_data['Status'])\n",
    "data_sm = pd.concat([pd.DataFrame(x_sm), pd.DataFrame(y_sm)], axis=1)\n",
    "data_sm.columns = all_data.columns\n",
    "data_sm['Status'].value_counts()"
   ]
  },
  {
   "cell_type": "code",
   "execution_count": 81,
   "id": "3193d156",
   "metadata": {},
   "outputs": [],
   "source": [
    "# modificando esto se prueban las distinas aproximaciones\n",
    "technique = data_oversampled\n",
    "# dataset sin la variable objetivo\n",
    "data_st = technique.drop(['Status'], axis=1)\n"
   ]
  },
  {
   "cell_type": "markdown",
   "id": "56a9ed17",
   "metadata": {},
   "source": [
    "#### Evaluación del modelo"
   ]
  },
  {
   "cell_type": "code",
   "execution_count": 83,
   "id": "3f5c71b8",
   "metadata": {},
   "outputs": [],
   "source": [
    "x_train, x_test, y_train, y_test = train_test_split(x, y, test_size = 0.33, random_state = 2)"
   ]
  },
  {
   "cell_type": "code",
   "execution_count": 82,
   "id": "1781b615",
   "metadata": {},
   "outputs": [],
   "source": [
    "x = technique.drop([\"Status\"], axis = 1)\n",
    "y = technique.Status.values"
   ]
  },
  {
   "cell_type": "code",
   "execution_count": 84,
   "id": "43154151",
   "metadata": {},
   "outputs": [],
   "source": [
    "nb = GaussianNB()\n",
    "nb.fit(x_train, y_train)\n",
    "y_pred = nb.predict(x_test)\n"
   ]
  },
  {
   "cell_type": "code",
   "execution_count": 85,
   "id": "13c4fc89",
   "metadata": {},
   "outputs": [
    {
     "name": "stdout",
     "output_type": "stream",
     "text": [
      "Accuracy of the classifier is:  0.6593406593406593\n"
     ]
    }
   ],
   "source": [
    "# Calculating the accuracy of classifier\n",
    "print(f\"Accuracy of the classifier is: \",nb.score(x_test, y_test))\n"
   ]
  },
  {
   "cell_type": "code",
   "execution_count": 86,
   "id": "b47b9fc1",
   "metadata": {},
   "outputs": [
    {
     "name": "stdout",
     "output_type": "stream",
     "text": [
      "              precision    recall  f1-score   support\n",
      "\n",
      "           0       0.86      0.34      0.49       130\n",
      "           1       0.61      0.95      0.75       143\n",
      "\n",
      "    accuracy                           0.66       273\n",
      "   macro avg       0.74      0.64      0.62       273\n",
      "weighted avg       0.73      0.66      0.62       273\n",
      "\n"
     ]
    }
   ],
   "source": [
    "\n",
    "print(classification_report(y_test, y_pred))"
   ]
  },
  {
   "cell_type": "code",
   "execution_count": 87,
   "id": "70bc1333",
   "metadata": {},
   "outputs": [
    {
     "data": {
      "text/plain": [
       "<AxesSubplot:>"
      ]
     },
     "execution_count": 87,
     "metadata": {},
     "output_type": "execute_result"
    },
    {
     "data": {
      "image/png": "[encoded data removed]",
      "text/plain": [
       "<Figure size 576x396 with 2 Axes>"
      ]
     },
     "metadata": {},
     "output_type": "display_data"
    }
   ],
   "source": [
    "cm = confusion_matrix(y_test, y_pred)\n",
    "ac = accuracy_score(y_test,y_pred)\n",
    "sns.heatmap(cm/np.sum(cm), annot=True, \n",
    "            fmt='.2%', cmap='cividis')"
   ]
  },
  {
   "cell_type": "code",
   "execution_count": 88,
   "id": "33839b0e",
   "metadata": {},
   "outputs": [
    {
     "name": "stdout",
     "output_type": "stream",
     "text": [
      "Kappa for our classifier is: 0.2977346278317151\n"
     ]
    }
   ],
   "source": [
    "kappa = cohen_kappa_score(y_test, y_pred)\n",
    "# Printing kappa\n",
    "print(f\"Kappa for our classifier is: {kappa}\")"
   ]
  },
  {
   "cell_type": "markdown",
   "id": "cd088bb9",
   "metadata": {},
   "source": [
    "## 2.2. Multicolinealidad\n"
   ]
  },
  {
   "cell_type": "code",
   "execution_count": 89,
   "id": "5b1344f1",
   "metadata": {},
   "outputs": [],
   "source": [
    "new_data=dataset.copy()"
   ]
  },
  {
   "cell_type": "code",
   "execution_count": 90,
   "id": "3b6b394f",
   "metadata": {},
   "outputs": [],
   "source": [
    "# eliminar una de las variables de las parejas \n",
    "new_data = dataset.drop('TB', axis=1)\n",
    "# eliminar una de las variables de las parejas \n",
    "new_data = new_data.drop('Sgot', axis=1)"
   ]
  },
  {
   "cell_type": "code",
   "execution_count": 91,
   "id": "5a1d81e3",
   "metadata": {},
   "outputs": [],
   "source": [
    "x = new_data.drop([\"Status\"], axis = 1)\n",
    "y = new_data.Status.values"
   ]
  },
  {
   "cell_type": "code",
   "execution_count": 92,
   "id": "0ed6148e",
   "metadata": {},
   "outputs": [],
   "source": [
    "x_train, x_test, y_train, y_test = train_test_split(x, y, test_size = 0.33, random_state = 2)"
   ]
  },
  {
   "cell_type": "code",
   "execution_count": 93,
   "id": "09a37b2b",
   "metadata": {},
   "outputs": [],
   "source": [
    "nb = GaussianNB()\n",
    "nb.fit(x_train, y_train)\n",
    "y_pred = nb.predict(x_test)\n"
   ]
  },
  {
   "cell_type": "code",
   "execution_count": 94,
   "id": "29066601",
   "metadata": {},
   "outputs": [
    {
     "name": "stdout",
     "output_type": "stream",
     "text": [
      "Accuracy of the classifier is:  0.5497382198952879\n"
     ]
    }
   ],
   "source": [
    "# Calculating the accuracy of classifier\n",
    "print(f\"Accuracy of the classifier is: \",nb.score(x_test, y_test))\n"
   ]
  },
  {
   "cell_type": "code",
   "execution_count": 95,
   "id": "5c1c4829",
   "metadata": {},
   "outputs": [
    {
     "name": "stdout",
     "output_type": "stream",
     "text": [
      "              precision    recall  f1-score   support\n",
      "\n",
      "           0       0.97      0.41      0.57       142\n",
      "           1       0.36      0.96      0.52        49\n",
      "\n",
      "    accuracy                           0.55       191\n",
      "   macro avg       0.66      0.68      0.55       191\n",
      "weighted avg       0.81      0.55      0.56       191\n",
      "\n"
     ]
    }
   ],
   "source": [
    "\n",
    "print(classification_report(y_test, y_pred))"
   ]
  },
  {
   "cell_type": "code",
   "execution_count": 96,
   "id": "a53be941",
   "metadata": {},
   "outputs": [
    {
     "data": {
      "text/plain": [
       "<AxesSubplot:>"
      ]
     },
     "execution_count": 96,
     "metadata": {},
     "output_type": "execute_result"
    },
    {
     "data": {
      "image/png": "[encoded data removed]",
      "text/plain": [
       "<Figure size 576x396 with 2 Axes>"
      ]
     },
     "metadata": {},
     "output_type": "display_data"
    }
   ],
   "source": [
    "from sklearn.metrics import confusion_matrix,accuracy_score\n",
    "cm = confusion_matrix(y_test, y_pred)\n",
    "ac = accuracy_score(y_test,y_pred)\n",
    "sns.heatmap(cm/np.sum(cm), annot=True, \n",
    "            fmt='.2%', cmap='Blues')"
   ]
  },
  {
   "cell_type": "code",
   "execution_count": 97,
   "id": "36040dd4",
   "metadata": {},
   "outputs": [
    {
     "name": "stdout",
     "output_type": "stream",
     "text": [
      "Kappa for our classifier is: 0.23748955528734572\n"
     ]
    }
   ],
   "source": [
    "from sklearn.metrics import cohen_kappa_score\n",
    "kappa = cohen_kappa_score(y_test, y_pred)\n",
    "# Printing kappa\n",
    "print(f\"Kappa for our classifier is: {kappa}\")"
   ]
  }
 ],
 "metadata": {
  "kernelspec": {
   "display_name": "Python 3 (ipykernel)",
   "language": "python",
   "name": "python3"
  },
  "language_info": {
   "codemirror_mode": {
    "name": "ipython",
    "version": 3
   },
   "file_extension": ".py",
   "mimetype": "text/x-python",
   "name": "python",
   "nbconvert_exporter": "python",
   "pygments_lexer": "ipython3",
   "version": "3.9.12"
  }
 },
 "nbformat": 4,
 "nbformat_minor": 5
}
