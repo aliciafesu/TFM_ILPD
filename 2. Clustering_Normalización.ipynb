{
 "cells": [
  {
   "cell_type": "markdown",
   "id": "799602ab",
   "metadata": {},
   "source": [
    "# Técnicas de Clustering: Normalización\n",
    "## 1. Importar "
   ]
  },
  {
   "cell_type": "code",
   "execution_count": 85,
   "id": "5ebccf12",
   "metadata": {},
   "outputs": [],
   "source": [
    "# librerias\n",
    "\n",
    "# manejo de datos\n",
    "import numpy as np\n",
    "import pandas as pd \n",
    "\n",
    "# normalización\n",
    "from sklearn.preprocessing import MinMaxScaler\n",
    "import scipy.stats as stats\n",
    "from scipy.cluster.vq import whiten\n",
    "\n",
    "# supresión de errores\n",
    "import warnings\n",
    "warnings.filterwarnings('ignore')\n",
    "\n",
    "# gráficos\n",
    "import matplotlib.pyplot as plt\n",
    "import seaborn as sns\n",
    "\n",
    "# cluster kmeans\n",
    "from sklearn.cluster import KMeans\n",
    "from sklearn import preprocessing\n",
    "from sklearn.metrics import confusion_matrix\n",
    "from sklearn.metrics import classification_report\n",
    "\n",
    "# cluster jerárquico \n",
    "import scipy.cluster.hierarchy as sch\n",
    "from scipy.cluster.hierarchy import ward, fcluster, linkage, dendrogram\n",
    "from scipy.spatial.distance import pdist\n",
    "\n",
    "\n"
   ]
  },
  {
   "cell_type": "code",
   "execution_count": 86,
   "id": "d9a5c483",
   "metadata": {},
   "outputs": [
    {
     "data": {
      "text/html": [
       "<div>\n",
       "<style scoped>\n",
       "    .dataframe tbody tr th:only-of-type {\n",
       "        vertical-align: middle;\n",
       "    }\n",
       "\n",
       "    .dataframe tbody tr th {\n",
       "        vertical-align: top;\n",
       "    }\n",
       "\n",
       "    .dataframe thead th {\n",
       "        text-align: right;\n",
       "    }\n",
       "</style>\n",
       "<table border=\"1\" class=\"dataframe\">\n",
       "  <thead>\n",
       "    <tr style=\"text-align: right;\">\n",
       "      <th></th>\n",
       "      <th>Age</th>\n",
       "      <th>Gender</th>\n",
       "      <th>TB</th>\n",
       "      <th>DB</th>\n",
       "      <th>Alkphos</th>\n",
       "      <th>Sgpt</th>\n",
       "      <th>Sgot</th>\n",
       "      <th>TP</th>\n",
       "      <th>ALB</th>\n",
       "      <th>AG</th>\n",
       "      <th>Status</th>\n",
       "    </tr>\n",
       "  </thead>\n",
       "  <tbody>\n",
       "    <tr>\n",
       "      <th>0</th>\n",
       "      <td>62</td>\n",
       "      <td>Male</td>\n",
       "      <td>10.9</td>\n",
       "      <td>5.5</td>\n",
       "      <td>699</td>\n",
       "      <td>64</td>\n",
       "      <td>100</td>\n",
       "      <td>7.5</td>\n",
       "      <td>3.2</td>\n",
       "      <td>0.74</td>\n",
       "      <td>1</td>\n",
       "    </tr>\n",
       "    <tr>\n",
       "      <th>1</th>\n",
       "      <td>62</td>\n",
       "      <td>Male</td>\n",
       "      <td>7.3</td>\n",
       "      <td>4.1</td>\n",
       "      <td>490</td>\n",
       "      <td>60</td>\n",
       "      <td>68</td>\n",
       "      <td>7.0</td>\n",
       "      <td>3.3</td>\n",
       "      <td>0.89</td>\n",
       "      <td>1</td>\n",
       "    </tr>\n",
       "    <tr>\n",
       "      <th>2</th>\n",
       "      <td>58</td>\n",
       "      <td>Male</td>\n",
       "      <td>1.0</td>\n",
       "      <td>0.4</td>\n",
       "      <td>182</td>\n",
       "      <td>14</td>\n",
       "      <td>20</td>\n",
       "      <td>6.8</td>\n",
       "      <td>3.4</td>\n",
       "      <td>1.00</td>\n",
       "      <td>1</td>\n",
       "    </tr>\n",
       "    <tr>\n",
       "      <th>3</th>\n",
       "      <td>72</td>\n",
       "      <td>Male</td>\n",
       "      <td>3.9</td>\n",
       "      <td>2.0</td>\n",
       "      <td>195</td>\n",
       "      <td>27</td>\n",
       "      <td>59</td>\n",
       "      <td>7.3</td>\n",
       "      <td>2.4</td>\n",
       "      <td>0.40</td>\n",
       "      <td>1</td>\n",
       "    </tr>\n",
       "    <tr>\n",
       "      <th>4</th>\n",
       "      <td>46</td>\n",
       "      <td>Male</td>\n",
       "      <td>1.8</td>\n",
       "      <td>0.7</td>\n",
       "      <td>208</td>\n",
       "      <td>19</td>\n",
       "      <td>14</td>\n",
       "      <td>7.6</td>\n",
       "      <td>4.4</td>\n",
       "      <td>1.30</td>\n",
       "      <td>1</td>\n",
       "    </tr>\n",
       "    <tr>\n",
       "      <th>...</th>\n",
       "      <td>...</td>\n",
       "      <td>...</td>\n",
       "      <td>...</td>\n",
       "      <td>...</td>\n",
       "      <td>...</td>\n",
       "      <td>...</td>\n",
       "      <td>...</td>\n",
       "      <td>...</td>\n",
       "      <td>...</td>\n",
       "      <td>...</td>\n",
       "      <td>...</td>\n",
       "    </tr>\n",
       "    <tr>\n",
       "      <th>577</th>\n",
       "      <td>60</td>\n",
       "      <td>Male</td>\n",
       "      <td>0.5</td>\n",
       "      <td>0.1</td>\n",
       "      <td>500</td>\n",
       "      <td>20</td>\n",
       "      <td>34</td>\n",
       "      <td>5.9</td>\n",
       "      <td>1.6</td>\n",
       "      <td>0.37</td>\n",
       "      <td>2</td>\n",
       "    </tr>\n",
       "    <tr>\n",
       "      <th>578</th>\n",
       "      <td>40</td>\n",
       "      <td>Male</td>\n",
       "      <td>0.6</td>\n",
       "      <td>0.1</td>\n",
       "      <td>98</td>\n",
       "      <td>35</td>\n",
       "      <td>31</td>\n",
       "      <td>6.0</td>\n",
       "      <td>3.2</td>\n",
       "      <td>1.10</td>\n",
       "      <td>1</td>\n",
       "    </tr>\n",
       "    <tr>\n",
       "      <th>579</th>\n",
       "      <td>52</td>\n",
       "      <td>Male</td>\n",
       "      <td>0.8</td>\n",
       "      <td>0.2</td>\n",
       "      <td>245</td>\n",
       "      <td>48</td>\n",
       "      <td>49</td>\n",
       "      <td>6.4</td>\n",
       "      <td>3.2</td>\n",
       "      <td>1.00</td>\n",
       "      <td>1</td>\n",
       "    </tr>\n",
       "    <tr>\n",
       "      <th>580</th>\n",
       "      <td>31</td>\n",
       "      <td>Male</td>\n",
       "      <td>1.3</td>\n",
       "      <td>0.5</td>\n",
       "      <td>184</td>\n",
       "      <td>29</td>\n",
       "      <td>32</td>\n",
       "      <td>6.8</td>\n",
       "      <td>3.4</td>\n",
       "      <td>1.00</td>\n",
       "      <td>1</td>\n",
       "    </tr>\n",
       "    <tr>\n",
       "      <th>581</th>\n",
       "      <td>38</td>\n",
       "      <td>Male</td>\n",
       "      <td>1.0</td>\n",
       "      <td>0.3</td>\n",
       "      <td>216</td>\n",
       "      <td>21</td>\n",
       "      <td>24</td>\n",
       "      <td>7.3</td>\n",
       "      <td>4.4</td>\n",
       "      <td>1.50</td>\n",
       "      <td>2</td>\n",
       "    </tr>\n",
       "  </tbody>\n",
       "</table>\n",
       "<p>582 rows × 11 columns</p>\n",
       "</div>"
      ],
      "text/plain": [
       "     Age Gender    TB   DB  Alkphos  Sgpt  Sgot   TP  ALB    AG  Status\n",
       "0     62   Male  10.9  5.5      699    64   100  7.5  3.2  0.74       1\n",
       "1     62   Male   7.3  4.1      490    60    68  7.0  3.3  0.89       1\n",
       "2     58   Male   1.0  0.4      182    14    20  6.8  3.4  1.00       1\n",
       "3     72   Male   3.9  2.0      195    27    59  7.3  2.4  0.40       1\n",
       "4     46   Male   1.8  0.7      208    19    14  7.6  4.4  1.30       1\n",
       "..   ...    ...   ...  ...      ...   ...   ...  ...  ...   ...     ...\n",
       "577   60   Male   0.5  0.1      500    20    34  5.9  1.6  0.37       2\n",
       "578   40   Male   0.6  0.1       98    35    31  6.0  3.2  1.10       1\n",
       "579   52   Male   0.8  0.2      245    48    49  6.4  3.2  1.00       1\n",
       "580   31   Male   1.3  0.5      184    29    32  6.8  3.4  1.00       1\n",
       "581   38   Male   1.0  0.3      216    21    24  7.3  4.4  1.50       2\n",
       "\n",
       "[582 rows x 11 columns]"
      ]
     },
     "execution_count": 86,
     "metadata": {},
     "output_type": "execute_result"
    }
   ],
   "source": [
    "# importar datos\n",
    "path ='LiverPatient.csv'\n",
    "\n",
    "raw_data =pd.read_csv(path, header =0)\n",
    "# añadir nombres de las columnas\n",
    "raw_data.columns= ['Age', 'Gender', 'TB', 'DB', 'Alkphos', 'Sgpt', 'Sgot', 'TP', 'ALB', 'AG', 'Status']\n",
    "all_data = raw_data.copy()\n",
    "raw_data.copy()"
   ]
  },
  {
   "cell_type": "markdown",
   "id": "49f73462",
   "metadata": {},
   "source": [
    "## 2. Preprocesamiento"
   ]
  },
  {
   "cell_type": "code",
   "execution_count": 87,
   "id": "7944d8ac",
   "metadata": {},
   "outputs": [
    {
     "data": {
      "text/html": [
       "<div>\n",
       "<style scoped>\n",
       "    .dataframe tbody tr th:only-of-type {\n",
       "        vertical-align: middle;\n",
       "    }\n",
       "\n",
       "    .dataframe tbody tr th {\n",
       "        vertical-align: top;\n",
       "    }\n",
       "\n",
       "    .dataframe thead th {\n",
       "        text-align: right;\n",
       "    }\n",
       "</style>\n",
       "<table border=\"1\" class=\"dataframe\">\n",
       "  <thead>\n",
       "    <tr style=\"text-align: right;\">\n",
       "      <th></th>\n",
       "      <th>Age</th>\n",
       "      <th>Gender</th>\n",
       "      <th>TB</th>\n",
       "      <th>DB</th>\n",
       "      <th>Alkphos</th>\n",
       "      <th>Sgpt</th>\n",
       "      <th>Sgot</th>\n",
       "      <th>TP</th>\n",
       "      <th>ALB</th>\n",
       "      <th>AG</th>\n",
       "      <th>Status</th>\n",
       "    </tr>\n",
       "  </thead>\n",
       "  <tbody>\n",
       "    <tr>\n",
       "      <th>0</th>\n",
       "      <td>62</td>\n",
       "      <td>1</td>\n",
       "      <td>10.9</td>\n",
       "      <td>5.5</td>\n",
       "      <td>699</td>\n",
       "      <td>64</td>\n",
       "      <td>100</td>\n",
       "      <td>7.5</td>\n",
       "      <td>3.2</td>\n",
       "      <td>0.74</td>\n",
       "      <td>1</td>\n",
       "    </tr>\n",
       "    <tr>\n",
       "      <th>1</th>\n",
       "      <td>62</td>\n",
       "      <td>1</td>\n",
       "      <td>7.3</td>\n",
       "      <td>4.1</td>\n",
       "      <td>490</td>\n",
       "      <td>60</td>\n",
       "      <td>68</td>\n",
       "      <td>7.0</td>\n",
       "      <td>3.3</td>\n",
       "      <td>0.89</td>\n",
       "      <td>1</td>\n",
       "    </tr>\n",
       "    <tr>\n",
       "      <th>2</th>\n",
       "      <td>58</td>\n",
       "      <td>1</td>\n",
       "      <td>1.0</td>\n",
       "      <td>0.4</td>\n",
       "      <td>182</td>\n",
       "      <td>14</td>\n",
       "      <td>20</td>\n",
       "      <td>6.8</td>\n",
       "      <td>3.4</td>\n",
       "      <td>1.00</td>\n",
       "      <td>1</td>\n",
       "    </tr>\n",
       "    <tr>\n",
       "      <th>3</th>\n",
       "      <td>72</td>\n",
       "      <td>1</td>\n",
       "      <td>3.9</td>\n",
       "      <td>2.0</td>\n",
       "      <td>195</td>\n",
       "      <td>27</td>\n",
       "      <td>59</td>\n",
       "      <td>7.3</td>\n",
       "      <td>2.4</td>\n",
       "      <td>0.40</td>\n",
       "      <td>1</td>\n",
       "    </tr>\n",
       "    <tr>\n",
       "      <th>4</th>\n",
       "      <td>46</td>\n",
       "      <td>1</td>\n",
       "      <td>1.8</td>\n",
       "      <td>0.7</td>\n",
       "      <td>208</td>\n",
       "      <td>19</td>\n",
       "      <td>14</td>\n",
       "      <td>7.6</td>\n",
       "      <td>4.4</td>\n",
       "      <td>1.30</td>\n",
       "      <td>1</td>\n",
       "    </tr>\n",
       "  </tbody>\n",
       "</table>\n",
       "</div>"
      ],
      "text/plain": [
       "   Age  Gender    TB   DB  Alkphos  Sgpt  Sgot   TP  ALB    AG  Status\n",
       "0   62       1  10.9  5.5      699    64   100  7.5  3.2  0.74       1\n",
       "1   62       1   7.3  4.1      490    60    68  7.0  3.3  0.89       1\n",
       "2   58       1   1.0  0.4      182    14    20  6.8  3.4  1.00       1\n",
       "3   72       1   3.9  2.0      195    27    59  7.3  2.4  0.40       1\n",
       "4   46       1   1.8  0.7      208    19    14  7.6  4.4  1.30       1"
      ]
     },
     "execution_count": 87,
     "metadata": {},
     "output_type": "execute_result"
    }
   ],
   "source": [
    "# Transformar gender a categorica \n",
    "all_data['Gender'].replace('Female',0 ,inplace=True)\n",
    "all_data['Gender'].replace('Male',1,inplace=True)\n",
    "all_data.head()"
   ]
  },
  {
   "cell_type": "code",
   "execution_count": 88,
   "id": "e847bfb2",
   "metadata": {},
   "outputs": [
    {
     "name": "stdout",
     "output_type": "stream",
     "text": [
      "Data whitout NaN Shape: (578, 11)\n"
     ]
    }
   ],
   "source": [
    "# Quitar missing values\n",
    "all_data = all_data.dropna()\n",
    "print ('Data whitout NaN Shape:', all_data.shape)"
   ]
  },
  {
   "cell_type": "markdown",
   "id": "07324c2f",
   "metadata": {},
   "source": [
    "## 2.1. Normalización\n",
    "\n",
    "Como se ha visto en el EDA, es necesario evaluar estrategias de normalización de los datos, a continuación se presentan algunas:  \n",
    "- Función 'whiten' de la librería 'scipy'. Reescala cada valor en función de su desviación estándard. Al dividir cada valor por la desviación estándard, cada variable tendrá varianza = 1. \n",
    "- MinMax Scaler. Iguala el valor mínimo a cero y el máximo a uno, por lo que todos los datos tomarán valores entre 0 y 1 sin cambiar la forma de la distribución original. \n",
    "- Z-score. Se normaliza cada valor de manera que la media es 0 y la desviación estándard sea 1. "
   ]
  },
  {
   "cell_type": "code",
   "execution_count": 89,
   "id": "6829f292",
   "metadata": {},
   "outputs": [],
   "source": [
    "# data normalization\n",
    "\n",
    "whiten_data = whiten(all_data.to_numpy())\n",
    "whiten_data = pd.DataFrame(whiten_data)\n",
    "whiten_data.columns= ['Age', 'Gender', 'TB', 'DB', 'Alkphos', 'Sgpt', 'Sgot', 'TP', 'ALB', 'AG', 'Status']\n"
   ]
  },
  {
   "cell_type": "code",
   "execution_count": 90,
   "id": "dd5edaf8",
   "metadata": {},
   "outputs": [
    {
     "name": "stdout",
     "output_type": "stream",
     "text": [
      "MinMaxScaler()\n"
     ]
    },
    {
     "data": {
      "text/html": [
       "<div>\n",
       "<style scoped>\n",
       "    .dataframe tbody tr th:only-of-type {\n",
       "        vertical-align: middle;\n",
       "    }\n",
       "\n",
       "    .dataframe tbody tr th {\n",
       "        vertical-align: top;\n",
       "    }\n",
       "\n",
       "    .dataframe thead th {\n",
       "        text-align: right;\n",
       "    }\n",
       "</style>\n",
       "<table border=\"1\" class=\"dataframe\">\n",
       "  <thead>\n",
       "    <tr style=\"text-align: right;\">\n",
       "      <th></th>\n",
       "      <th>Age</th>\n",
       "      <th>Gender</th>\n",
       "      <th>TB</th>\n",
       "      <th>DB</th>\n",
       "      <th>Alkphos</th>\n",
       "      <th>Sgpt</th>\n",
       "      <th>Sgot</th>\n",
       "      <th>TP</th>\n",
       "      <th>ALB</th>\n",
       "      <th>AG</th>\n",
       "      <th>Status</th>\n",
       "    </tr>\n",
       "  </thead>\n",
       "  <tbody>\n",
       "    <tr>\n",
       "      <th>0</th>\n",
       "      <td>0.674419</td>\n",
       "      <td>1.0</td>\n",
       "      <td>0.140751</td>\n",
       "      <td>0.275510</td>\n",
       "      <td>0.310699</td>\n",
       "      <td>0.027136</td>\n",
       "      <td>0.018296</td>\n",
       "      <td>0.695652</td>\n",
       "      <td>0.500000</td>\n",
       "      <td>0.176</td>\n",
       "      <td>0.0</td>\n",
       "    </tr>\n",
       "    <tr>\n",
       "      <th>1</th>\n",
       "      <td>0.674419</td>\n",
       "      <td>1.0</td>\n",
       "      <td>0.092493</td>\n",
       "      <td>0.204082</td>\n",
       "      <td>0.208598</td>\n",
       "      <td>0.025126</td>\n",
       "      <td>0.011791</td>\n",
       "      <td>0.623188</td>\n",
       "      <td>0.521739</td>\n",
       "      <td>0.236</td>\n",
       "      <td>0.0</td>\n",
       "    </tr>\n",
       "    <tr>\n",
       "      <th>2</th>\n",
       "      <td>0.627907</td>\n",
       "      <td>1.0</td>\n",
       "      <td>0.008043</td>\n",
       "      <td>0.015306</td>\n",
       "      <td>0.058134</td>\n",
       "      <td>0.002010</td>\n",
       "      <td>0.002033</td>\n",
       "      <td>0.594203</td>\n",
       "      <td>0.543478</td>\n",
       "      <td>0.280</td>\n",
       "      <td>0.0</td>\n",
       "    </tr>\n",
       "    <tr>\n",
       "      <th>3</th>\n",
       "      <td>0.790698</td>\n",
       "      <td>1.0</td>\n",
       "      <td>0.046917</td>\n",
       "      <td>0.096939</td>\n",
       "      <td>0.064485</td>\n",
       "      <td>0.008543</td>\n",
       "      <td>0.009961</td>\n",
       "      <td>0.666667</td>\n",
       "      <td>0.326087</td>\n",
       "      <td>0.040</td>\n",
       "      <td>0.0</td>\n",
       "    </tr>\n",
       "    <tr>\n",
       "      <th>4</th>\n",
       "      <td>0.488372</td>\n",
       "      <td>1.0</td>\n",
       "      <td>0.018767</td>\n",
       "      <td>0.030612</td>\n",
       "      <td>0.070835</td>\n",
       "      <td>0.004523</td>\n",
       "      <td>0.000813</td>\n",
       "      <td>0.710145</td>\n",
       "      <td>0.760870</td>\n",
       "      <td>0.400</td>\n",
       "      <td>0.0</td>\n",
       "    </tr>\n",
       "    <tr>\n",
       "      <th>...</th>\n",
       "      <td>...</td>\n",
       "      <td>...</td>\n",
       "      <td>...</td>\n",
       "      <td>...</td>\n",
       "      <td>...</td>\n",
       "      <td>...</td>\n",
       "      <td>...</td>\n",
       "      <td>...</td>\n",
       "      <td>...</td>\n",
       "      <td>...</td>\n",
       "      <td>...</td>\n",
       "    </tr>\n",
       "    <tr>\n",
       "      <th>573</th>\n",
       "      <td>0.651163</td>\n",
       "      <td>1.0</td>\n",
       "      <td>0.001340</td>\n",
       "      <td>0.000000</td>\n",
       "      <td>0.213483</td>\n",
       "      <td>0.005025</td>\n",
       "      <td>0.004879</td>\n",
       "      <td>0.463768</td>\n",
       "      <td>0.152174</td>\n",
       "      <td>0.028</td>\n",
       "      <td>1.0</td>\n",
       "    </tr>\n",
       "    <tr>\n",
       "      <th>574</th>\n",
       "      <td>0.418605</td>\n",
       "      <td>1.0</td>\n",
       "      <td>0.002681</td>\n",
       "      <td>0.000000</td>\n",
       "      <td>0.017098</td>\n",
       "      <td>0.012563</td>\n",
       "      <td>0.004269</td>\n",
       "      <td>0.478261</td>\n",
       "      <td>0.500000</td>\n",
       "      <td>0.320</td>\n",
       "      <td>0.0</td>\n",
       "    </tr>\n",
       "    <tr>\n",
       "      <th>575</th>\n",
       "      <td>0.558140</td>\n",
       "      <td>1.0</td>\n",
       "      <td>0.005362</td>\n",
       "      <td>0.005102</td>\n",
       "      <td>0.088911</td>\n",
       "      <td>0.019095</td>\n",
       "      <td>0.007928</td>\n",
       "      <td>0.536232</td>\n",
       "      <td>0.500000</td>\n",
       "      <td>0.280</td>\n",
       "      <td>0.0</td>\n",
       "    </tr>\n",
       "    <tr>\n",
       "      <th>576</th>\n",
       "      <td>0.313953</td>\n",
       "      <td>1.0</td>\n",
       "      <td>0.012064</td>\n",
       "      <td>0.020408</td>\n",
       "      <td>0.059111</td>\n",
       "      <td>0.009548</td>\n",
       "      <td>0.004472</td>\n",
       "      <td>0.594203</td>\n",
       "      <td>0.543478</td>\n",
       "      <td>0.280</td>\n",
       "      <td>0.0</td>\n",
       "    </tr>\n",
       "    <tr>\n",
       "      <th>577</th>\n",
       "      <td>0.395349</td>\n",
       "      <td>1.0</td>\n",
       "      <td>0.008043</td>\n",
       "      <td>0.010204</td>\n",
       "      <td>0.074744</td>\n",
       "      <td>0.005528</td>\n",
       "      <td>0.002846</td>\n",
       "      <td>0.666667</td>\n",
       "      <td>0.760870</td>\n",
       "      <td>0.480</td>\n",
       "      <td>1.0</td>\n",
       "    </tr>\n",
       "  </tbody>\n",
       "</table>\n",
       "<p>578 rows × 11 columns</p>\n",
       "</div>"
      ],
      "text/plain": [
       "          Age  Gender        TB        DB   Alkphos      Sgpt      Sgot  \\\n",
       "0    0.674419     1.0  0.140751  0.275510  0.310699  0.027136  0.018296   \n",
       "1    0.674419     1.0  0.092493  0.204082  0.208598  0.025126  0.011791   \n",
       "2    0.627907     1.0  0.008043  0.015306  0.058134  0.002010  0.002033   \n",
       "3    0.790698     1.0  0.046917  0.096939  0.064485  0.008543  0.009961   \n",
       "4    0.488372     1.0  0.018767  0.030612  0.070835  0.004523  0.000813   \n",
       "..        ...     ...       ...       ...       ...       ...       ...   \n",
       "573  0.651163     1.0  0.001340  0.000000  0.213483  0.005025  0.004879   \n",
       "574  0.418605     1.0  0.002681  0.000000  0.017098  0.012563  0.004269   \n",
       "575  0.558140     1.0  0.005362  0.005102  0.088911  0.019095  0.007928   \n",
       "576  0.313953     1.0  0.012064  0.020408  0.059111  0.009548  0.004472   \n",
       "577  0.395349     1.0  0.008043  0.010204  0.074744  0.005528  0.002846   \n",
       "\n",
       "           TP       ALB     AG  Status  \n",
       "0    0.695652  0.500000  0.176     0.0  \n",
       "1    0.623188  0.521739  0.236     0.0  \n",
       "2    0.594203  0.543478  0.280     0.0  \n",
       "3    0.666667  0.326087  0.040     0.0  \n",
       "4    0.710145  0.760870  0.400     0.0  \n",
       "..        ...       ...    ...     ...  \n",
       "573  0.463768  0.152174  0.028     1.0  \n",
       "574  0.478261  0.500000  0.320     0.0  \n",
       "575  0.536232  0.500000  0.280     0.0  \n",
       "576  0.594203  0.543478  0.280     0.0  \n",
       "577  0.666667  0.760870  0.480     1.0  \n",
       "\n",
       "[578 rows x 11 columns]"
      ]
     },
     "execution_count": 90,
     "metadata": {},
     "output_type": "execute_result"
    }
   ],
   "source": [
    "scaler = MinMaxScaler()\n",
    "print(scaler.fit(all_data))\n",
    "MinMaxScaler()\n",
    "mm_data = scaler.transform(all_data)\n",
    "\n",
    "mm_data = pd.DataFrame(mm_data)\n",
    "mm_data.columns= ['Age', 'Gender', 'TB', 'DB', 'Alkphos', 'Sgpt', 'Sgot', 'TP', 'ALB', 'AG', 'Status']\n",
    "mm_data"
   ]
  },
  {
   "cell_type": "code",
   "execution_count": 91,
   "id": "83cf6f8e",
   "metadata": {},
   "outputs": [
    {
     "data": {
      "text/html": [
       "<div>\n",
       "<style scoped>\n",
       "    .dataframe tbody tr th:only-of-type {\n",
       "        vertical-align: middle;\n",
       "    }\n",
       "\n",
       "    .dataframe tbody tr th {\n",
       "        vertical-align: top;\n",
       "    }\n",
       "\n",
       "    .dataframe thead th {\n",
       "        text-align: right;\n",
       "    }\n",
       "</style>\n",
       "<table border=\"1\" class=\"dataframe\">\n",
       "  <thead>\n",
       "    <tr style=\"text-align: right;\">\n",
       "      <th></th>\n",
       "      <th>Age</th>\n",
       "      <th>Gender</th>\n",
       "      <th>TB</th>\n",
       "      <th>DB</th>\n",
       "      <th>Alkphos</th>\n",
       "      <th>Sgpt</th>\n",
       "      <th>Sgot</th>\n",
       "      <th>TP</th>\n",
       "      <th>ALB</th>\n",
       "      <th>AG</th>\n",
       "      <th>Status</th>\n",
       "    </tr>\n",
       "  </thead>\n",
       "  <tbody>\n",
       "    <tr>\n",
       "      <th>0</th>\n",
       "      <td>1.064979</td>\n",
       "      <td>0.562698</td>\n",
       "      <td>1.217342</td>\n",
       "      <td>1.421734</td>\n",
       "      <td>1.673161</td>\n",
       "      <td>-0.094117</td>\n",
       "      <td>-0.036486</td>\n",
       "      <td>0.939421</td>\n",
       "      <td>0.077750</td>\n",
       "      <td>-0.648168</td>\n",
       "      <td>-0.632073</td>\n",
       "    </tr>\n",
       "    <tr>\n",
       "      <th>1</th>\n",
       "      <td>1.064979</td>\n",
       "      <td>0.562698</td>\n",
       "      <td>0.639193</td>\n",
       "      <td>0.924557</td>\n",
       "      <td>0.814926</td>\n",
       "      <td>-0.115956</td>\n",
       "      <td>-0.146897</td>\n",
       "      <td>0.478404</td>\n",
       "      <td>0.203630</td>\n",
       "      <td>-0.178810</td>\n",
       "      <td>-0.632073</td>\n",
       "    </tr>\n",
       "    <tr>\n",
       "      <th>2</th>\n",
       "      <td>0.818065</td>\n",
       "      <td>0.562698</td>\n",
       "      <td>-0.372568</td>\n",
       "      <td>-0.389410</td>\n",
       "      <td>-0.449841</td>\n",
       "      <td>-0.367098</td>\n",
       "      <td>-0.312515</td>\n",
       "      <td>0.293998</td>\n",
       "      <td>0.329510</td>\n",
       "      <td>0.165385</td>\n",
       "      <td>-0.632073</td>\n",
       "    </tr>\n",
       "    <tr>\n",
       "      <th>3</th>\n",
       "      <td>1.682266</td>\n",
       "      <td>0.562698</td>\n",
       "      <td>0.093163</td>\n",
       "      <td>0.178792</td>\n",
       "      <td>-0.396458</td>\n",
       "      <td>-0.296123</td>\n",
       "      <td>-0.177950</td>\n",
       "      <td>0.755014</td>\n",
       "      <td>-0.929292</td>\n",
       "      <td>-1.712044</td>\n",
       "      <td>-0.632073</td>\n",
       "    </tr>\n",
       "    <tr>\n",
       "      <th>4</th>\n",
       "      <td>0.077321</td>\n",
       "      <td>0.562698</td>\n",
       "      <td>-0.244091</td>\n",
       "      <td>-0.282872</td>\n",
       "      <td>-0.343075</td>\n",
       "      <td>-0.339800</td>\n",
       "      <td>-0.333217</td>\n",
       "      <td>1.031624</td>\n",
       "      <td>1.588312</td>\n",
       "      <td>1.104099</td>\n",
       "      <td>-0.632073</td>\n",
       "    </tr>\n",
       "    <tr>\n",
       "      <th>...</th>\n",
       "      <td>...</td>\n",
       "      <td>...</td>\n",
       "      <td>...</td>\n",
       "      <td>...</td>\n",
       "      <td>...</td>\n",
       "      <td>...</td>\n",
       "      <td>...</td>\n",
       "      <td>...</td>\n",
       "      <td>...</td>\n",
       "      <td>...</td>\n",
       "      <td>...</td>\n",
       "    </tr>\n",
       "    <tr>\n",
       "      <th>577</th>\n",
       "      <td>0.941522</td>\n",
       "      <td>0.562698</td>\n",
       "      <td>-0.452867</td>\n",
       "      <td>-0.495948</td>\n",
       "      <td>0.855990</td>\n",
       "      <td>-0.334341</td>\n",
       "      <td>-0.264210</td>\n",
       "      <td>-0.535832</td>\n",
       "      <td>-1.936333</td>\n",
       "      <td>-1.805915</td>\n",
       "      <td>1.582097</td>\n",
       "    </tr>\n",
       "    <tr>\n",
       "      <th>578</th>\n",
       "      <td>-0.293051</td>\n",
       "      <td>0.562698</td>\n",
       "      <td>-0.436807</td>\n",
       "      <td>-0.495948</td>\n",
       "      <td>-0.794778</td>\n",
       "      <td>-0.252446</td>\n",
       "      <td>-0.274561</td>\n",
       "      <td>-0.443629</td>\n",
       "      <td>0.077750</td>\n",
       "      <td>0.478289</td>\n",
       "      <td>-0.632073</td>\n",
       "    </tr>\n",
       "    <tr>\n",
       "      <th>579</th>\n",
       "      <td>0.447693</td>\n",
       "      <td>0.562698</td>\n",
       "      <td>-0.404688</td>\n",
       "      <td>-0.460435</td>\n",
       "      <td>-0.191139</td>\n",
       "      <td>-0.181471</td>\n",
       "      <td>-0.212454</td>\n",
       "      <td>-0.074815</td>\n",
       "      <td>0.077750</td>\n",
       "      <td>0.165385</td>\n",
       "      <td>-0.632073</td>\n",
       "    </tr>\n",
       "    <tr>\n",
       "      <th>580</th>\n",
       "      <td>-0.848609</td>\n",
       "      <td>0.562698</td>\n",
       "      <td>-0.324389</td>\n",
       "      <td>-0.353897</td>\n",
       "      <td>-0.441628</td>\n",
       "      <td>-0.285204</td>\n",
       "      <td>-0.271110</td>\n",
       "      <td>0.293998</td>\n",
       "      <td>0.329510</td>\n",
       "      <td>0.165385</td>\n",
       "      <td>-0.632073</td>\n",
       "    </tr>\n",
       "    <tr>\n",
       "      <th>581</th>\n",
       "      <td>-0.416508</td>\n",
       "      <td>0.562698</td>\n",
       "      <td>-0.372568</td>\n",
       "      <td>-0.424923</td>\n",
       "      <td>-0.310224</td>\n",
       "      <td>-0.328881</td>\n",
       "      <td>-0.298713</td>\n",
       "      <td>0.755014</td>\n",
       "      <td>1.588312</td>\n",
       "      <td>1.729908</td>\n",
       "      <td>1.582097</td>\n",
       "    </tr>\n",
       "  </tbody>\n",
       "</table>\n",
       "<p>578 rows × 11 columns</p>\n",
       "</div>"
      ],
      "text/plain": [
       "          Age    Gender        TB        DB   Alkphos      Sgpt      Sgot  \\\n",
       "0    1.064979  0.562698  1.217342  1.421734  1.673161 -0.094117 -0.036486   \n",
       "1    1.064979  0.562698  0.639193  0.924557  0.814926 -0.115956 -0.146897   \n",
       "2    0.818065  0.562698 -0.372568 -0.389410 -0.449841 -0.367098 -0.312515   \n",
       "3    1.682266  0.562698  0.093163  0.178792 -0.396458 -0.296123 -0.177950   \n",
       "4    0.077321  0.562698 -0.244091 -0.282872 -0.343075 -0.339800 -0.333217   \n",
       "..        ...       ...       ...       ...       ...       ...       ...   \n",
       "577  0.941522  0.562698 -0.452867 -0.495948  0.855990 -0.334341 -0.264210   \n",
       "578 -0.293051  0.562698 -0.436807 -0.495948 -0.794778 -0.252446 -0.274561   \n",
       "579  0.447693  0.562698 -0.404688 -0.460435 -0.191139 -0.181471 -0.212454   \n",
       "580 -0.848609  0.562698 -0.324389 -0.353897 -0.441628 -0.285204 -0.271110   \n",
       "581 -0.416508  0.562698 -0.372568 -0.424923 -0.310224 -0.328881 -0.298713   \n",
       "\n",
       "           TP       ALB        AG    Status  \n",
       "0    0.939421  0.077750 -0.648168 -0.632073  \n",
       "1    0.478404  0.203630 -0.178810 -0.632073  \n",
       "2    0.293998  0.329510  0.165385 -0.632073  \n",
       "3    0.755014 -0.929292 -1.712044 -0.632073  \n",
       "4    1.031624  1.588312  1.104099 -0.632073  \n",
       "..        ...       ...       ...       ...  \n",
       "577 -0.535832 -1.936333 -1.805915  1.582097  \n",
       "578 -0.443629  0.077750  0.478289 -0.632073  \n",
       "579 -0.074815  0.077750  0.165385 -0.632073  \n",
       "580  0.293998  0.329510  0.165385 -0.632073  \n",
       "581  0.755014  1.588312  1.729908  1.582097  \n",
       "\n",
       "[578 rows x 11 columns]"
      ]
     },
     "execution_count": 91,
     "metadata": {},
     "output_type": "execute_result"
    }
   ],
   "source": [
    "zscore = all_data.apply(stats.zscore)\n",
    "zscore"
   ]
  },
  {
   "cell_type": "code",
   "execution_count": 92,
   "id": "5f8d8d84",
   "metadata": {},
   "outputs": [],
   "source": [
    "# seleccionar método de normalización \n",
    "#whiten_data \n",
    "#mm_data\n",
    "#zscore\n",
    "technique = all_data.copy()\n",
    "drop_st = technique.drop(['Status'], axis=1)"
   ]
  },
  {
   "cell_type": "markdown",
   "id": "7f090e91",
   "metadata": {},
   "source": [
    "## 3. K-means \n",
    "\n",
    "Las observaciones se van a agrupar en un número pre definido de clusters, estas agrupaciones se realizarán intentando minimizar la suma de la varianza interna de cada grupo. Este algoritmo necesita como input el número de clusters que va a generar. Asignará cada observación al centroide con el que tenga menos distancia. El valor del centroide se recalculará cada vez que se asigne un nuevo dato a ese cluster. \n",
    "Es una de las técnicas de clustering más utilizadas, pero tiene algunas desventajas, como la necesidad de indicar por adelantado el número de clusters o una asignación aleatoria de los centroides que realiza al principio. Además si el conjunto de datos tiene muchos outliers (como es el caso de este dataset) este tipo de técnica también presenta problemas. "
   ]
  },
  {
   "cell_type": "code",
   "execution_count": 93,
   "id": "31abc625",
   "metadata": {},
   "outputs": [],
   "source": [
    "k = 2\n",
    "\n",
    "kmeans = KMeans(\n",
    "    init=\"random\",\n",
    "    n_clusters=k,\n",
    "    n_init=10,\n",
    "    max_iter=300,\n",
    "    random_state=42 \n",
    ")\n",
    "kmeans.fit(drop_st)\n",
    "labels = kmeans.labels_\n"
   ]
  },
  {
   "cell_type": "code",
   "execution_count": 94,
   "id": "097791ca",
   "metadata": {},
   "outputs": [],
   "source": [
    "y_true = np.array(all_data['Status']).copy()\n",
    "y_true[y_true == 1] = 0\n",
    "y_true[y_true == 2] = 1\n"
   ]
  },
  {
   "cell_type": "markdown",
   "id": "488d068e",
   "metadata": {},
   "source": [
    "### 3.1. K-means: métricas\n",
    "\n",
    "Se utilizará una matriz de confusión para resumir los resultados de la clasificación por k-means con k=2. Se comprobarán los resultados frente a las dos categorías de la variable 'Status. "
   ]
  },
  {
   "cell_type": "code",
   "execution_count": 95,
   "id": "f8268a27",
   "metadata": {},
   "outputs": [
    {
     "data": {
      "text/plain": [
       "<AxesSubplot:>"
      ]
     },
     "execution_count": 95,
     "metadata": {},
     "output_type": "execute_result"
    },
    {
     "data": {
      "image/png": "[encoded data removed]",
      "text/plain": [
       "<Figure size 432x288 with 2 Axes>"
      ]
     },
     "metadata": {
      "needs_background": "light"
     },
     "output_type": "display_data"
    }
   ],
   "source": [
    "# matriz de confusion \n",
    "cf_matrix = confusion_matrix(y_true, labels)\n",
    "sns.heatmap(cf_matrix/np.sum(cf_matrix), annot=True, \n",
    "            fmt='.2%')"
   ]
  },
  {
   "cell_type": "code",
   "execution_count": 96,
   "id": "a2560f0a",
   "metadata": {},
   "outputs": [
    {
     "name": "stdout",
     "output_type": "stream",
     "text": [
      "              precision    recall  f1-score   support\n",
      "\n",
      "           0       1.00      0.04      0.07       413\n",
      "           1       0.29      1.00      0.45       165\n",
      "\n",
      "    accuracy                           0.31       578\n",
      "   macro avg       0.65      0.52      0.26       578\n",
      "weighted avg       0.80      0.31      0.18       578\n",
      "\n"
     ]
    }
   ],
   "source": [
    "class_names = ['0', '1']\n",
    "print(classification_report(y_true, labels, target_names=class_names))"
   ]
  },
  {
   "cell_type": "code",
   "execution_count": null,
   "id": "78aa1fe9",
   "metadata": {},
   "outputs": [],
   "source": []
  },
  {
   "cell_type": "markdown",
   "id": "d2f1390e",
   "metadata": {},
   "source": [
    "## 4. Cluster Jerárquico\n",
    "\n",
    "Estos algoritmos no requieren que se predefina el número de clusters. Normalmente se represetan ráficamente en forma de dendrograma. Se pueden clasificar en dos grupos, los aglomerativos y los divisivos. Las técnicas de cluster aglomerativo empiezan con todos los datos separados y van progresivamente iterando de manera que los mas cercanos se unen. De manera contraria los divisivos empiezan con todas las observaciones juntas y se van separando en función de la distancia entre puntos. Existen varios métodos que permiten medir dicha distancia: \n",
    "- Single: la menor distancia entre dos puntos de cada cluster\n",
    "- Complete: mayor distancia entre dos puntos de cada cluster \n",
    "- Mean: media entre todos los puntos de los dos clusters \n",
    "- Centroid: distancia entre los centroides de los dos clusters \n",
    "- Ward: varianza mínima en un cluster\n",
    "\n",
    "\n",
    "### 4.1. Clustering de una unión"
   ]
  },
  {
   "cell_type": "code",
   "execution_count": 97,
   "id": "1b2520a2",
   "metadata": {},
   "outputs": [],
   "source": [
    "# matriz de distancias\n",
    "distance_matrix = linkage(drop_st, method = 'single', metric = 'euclidean')"
   ]
  },
  {
   "cell_type": "code",
   "execution_count": 98,
   "id": "cdc61459",
   "metadata": {},
   "outputs": [
    {
     "data": {
      "text/plain": [
       "<AxesSubplot:>"
      ]
     },
     "execution_count": 98,
     "metadata": {},
     "output_type": "execute_result"
    },
    {
     "data": {
      "image/png": "[encoded data removed]",
      "text/plain": [
       "<Figure size 432x288 with 2 Axes>"
      ]
     },
     "metadata": {
      "needs_background": "light"
     },
     "output_type": "display_data"
    }
   ],
   "source": [
    "y_pred = fcluster(distance_matrix, 2, criterion='maxclust')\n",
    "y_true = np.array(all_data['Status']).copy()\n",
    "cf_matrix = confusion_matrix(y_true, y_pred)\n",
    "sns.heatmap(cf_matrix/np.sum(cf_matrix), annot=True, \n",
    "            fmt='.2%')"
   ]
  },
  {
   "cell_type": "code",
   "execution_count": 99,
   "id": "e5054a14",
   "metadata": {},
   "outputs": [
    {
     "name": "stdout",
     "output_type": "stream",
     "text": [
      "              precision    recall  f1-score   support\n",
      "\n",
      "           0       0.71      1.00      0.83       413\n",
      "           1       0.00      0.00      0.00       165\n",
      "\n",
      "    accuracy                           0.71       578\n",
      "   macro avg       0.36      0.50      0.42       578\n",
      "weighted avg       0.51      0.71      0.59       578\n",
      "\n"
     ]
    }
   ],
   "source": [
    "class_names = ['0', '1']\n",
    "print(classification_report(y_true, y_pred, target_names=class_names))"
   ]
  },
  {
   "cell_type": "code",
   "execution_count": 100,
   "id": "8efdf846",
   "metadata": {},
   "outputs": [
    {
     "data": {
      "image/png": "[encoded data removed]",
      "text/plain": [
       "<Figure size 432x288 with 1 Axes>"
      ]
     },
     "metadata": {
      "needs_background": "light"
     },
     "output_type": "display_data"
    }
   ],
   "source": [
    "# Create a dendrogram\n",
    "dn = dendrogram(distance_matrix)\n",
    " \n",
    "# Display the dendogram\n",
    "plt.show()"
   ]
  },
  {
   "cell_type": "code",
   "execution_count": null,
   "id": "07650e00",
   "metadata": {},
   "outputs": [],
   "source": []
  },
  {
   "cell_type": "code",
   "execution_count": 101,
   "id": "9237ae5d",
   "metadata": {},
   "outputs": [],
   "source": [
    "# matriz de distancias\n",
    "distance_matrix = linkage(drop_st, method = 'complete', metric = 'euclidean')"
   ]
  },
  {
   "cell_type": "code",
   "execution_count": 102,
   "id": "5dcb5895",
   "metadata": {},
   "outputs": [
    {
     "data": {
      "text/plain": [
       "<AxesSubplot:>"
      ]
     },
     "execution_count": 102,
     "metadata": {},
     "output_type": "execute_result"
    },
    {
     "data": {
      "image/png": "[encoded data removed]",
      "text/plain": [
       "<Figure size 432x288 with 2 Axes>"
      ]
     },
     "metadata": {
      "needs_background": "light"
     },
     "output_type": "display_data"
    }
   ],
   "source": [
    "y_pred = fcluster(distance_matrix, 2, criterion='maxclust')\n",
    "y_true = np.array(all_data['Status']).copy()\n",
    "cf_matrix = confusion_matrix(y_true, y_pred)\n",
    "sns.heatmap(cf_matrix/np.sum(cf_matrix), annot=True, \n",
    "            fmt='.2%')"
   ]
  },
  {
   "cell_type": "code",
   "execution_count": 103,
   "id": "69d4c63d",
   "metadata": {},
   "outputs": [
    {
     "name": "stdout",
     "output_type": "stream",
     "text": [
      "              precision    recall  f1-score   support\n",
      "\n",
      "           0       0.71      1.00      0.83       413\n",
      "           1       0.00      0.00      0.00       165\n",
      "\n",
      "    accuracy                           0.71       578\n",
      "   macro avg       0.36      0.50      0.42       578\n",
      "weighted avg       0.51      0.71      0.59       578\n",
      "\n"
     ]
    }
   ],
   "source": [
    "class_names = ['0', '1']\n",
    "print(classification_report(y_true, y_pred, target_names=class_names))"
   ]
  },
  {
   "cell_type": "code",
   "execution_count": 104,
   "id": "57cf3f23",
   "metadata": {},
   "outputs": [
    {
     "data": {
      "image/png": "[encoded data removed]",
      "text/plain": [
       "<Figure size 432x288 with 1 Axes>"
      ]
     },
     "metadata": {
      "needs_background": "light"
     },
     "output_type": "display_data"
    }
   ],
   "source": [
    "# Create a dendrogram\n",
    "dn = dendrogram(distance_matrix)\n",
    " \n",
    "# Display the dendogram\n",
    "plt.show()"
   ]
  },
  {
   "cell_type": "code",
   "execution_count": null,
   "id": "db5a298b",
   "metadata": {},
   "outputs": [],
   "source": []
  },
  {
   "cell_type": "code",
   "execution_count": 105,
   "id": "81a6f3a4",
   "metadata": {},
   "outputs": [],
   "source": [
    "# matriz de distancias\n",
    "distance_matrix = linkage(drop_st, method = 'average', metric = 'euclidean')"
   ]
  },
  {
   "cell_type": "code",
   "execution_count": 106,
   "id": "9a127fd5",
   "metadata": {},
   "outputs": [
    {
     "data": {
      "text/plain": [
       "<AxesSubplot:>"
      ]
     },
     "execution_count": 106,
     "metadata": {},
     "output_type": "execute_result"
    },
    {
     "data": {
      "image/png": "[encoded data removed]",
      "text/plain": [
       "<Figure size 432x288 with 2 Axes>"
      ]
     },
     "metadata": {
      "needs_background": "light"
     },
     "output_type": "display_data"
    }
   ],
   "source": [
    "y_pred = fcluster(distance_matrix, 2, criterion='maxclust')\n",
    "y_true = np.array(all_data['Status']).copy()\n",
    "cf_matrix = confusion_matrix(y_true, y_pred)\n",
    "sns.heatmap(cf_matrix/np.sum(cf_matrix), annot=True, \n",
    "            fmt='.2%')"
   ]
  },
  {
   "cell_type": "code",
   "execution_count": 107,
   "id": "8b90c99d",
   "metadata": {},
   "outputs": [
    {
     "name": "stdout",
     "output_type": "stream",
     "text": [
      "              precision    recall  f1-score   support\n",
      "\n",
      "           0       0.71      1.00      0.83       413\n",
      "           1       0.00      0.00      0.00       165\n",
      "\n",
      "    accuracy                           0.71       578\n",
      "   macro avg       0.36      0.50      0.42       578\n",
      "weighted avg       0.51      0.71      0.59       578\n",
      "\n"
     ]
    }
   ],
   "source": [
    "class_names = ['0', '1']\n",
    "print(classification_report(y_true, y_pred, target_names=class_names))"
   ]
  },
  {
   "cell_type": "code",
   "execution_count": 108,
   "id": "8bf5f54c",
   "metadata": {},
   "outputs": [
    {
     "data": {
      "image/png": "[encoded data removed]",
      "text/plain": [
       "<Figure size 432x288 with 1 Axes>"
      ]
     },
     "metadata": {
      "needs_background": "light"
     },
     "output_type": "display_data"
    }
   ],
   "source": [
    "# Create a dendrogram\n",
    "dn = dendrogram(distance_matrix)\n",
    " \n",
    "# Display the dendogram\n",
    "plt.show()"
   ]
  },
  {
   "cell_type": "code",
   "execution_count": null,
   "id": "2f9ea1a1",
   "metadata": {},
   "outputs": [],
   "source": []
  },
  {
   "cell_type": "code",
   "execution_count": 109,
   "id": "9d807253",
   "metadata": {},
   "outputs": [],
   "source": [
    "# matriz de distancias\n",
    "distance_matrix = linkage(drop_st, method = 'centroid', metric = 'euclidean')"
   ]
  },
  {
   "cell_type": "code",
   "execution_count": 110,
   "id": "dee763ad",
   "metadata": {},
   "outputs": [
    {
     "data": {
      "text/plain": [
       "<AxesSubplot:>"
      ]
     },
     "execution_count": 110,
     "metadata": {},
     "output_type": "execute_result"
    },
    {
     "data": {
      "image/png": "[encoded data removed]",
      "text/plain": [
       "<Figure size 432x288 with 2 Axes>"
      ]
     },
     "metadata": {
      "needs_background": "light"
     },
     "output_type": "display_data"
    }
   ],
   "source": [
    "y_pred = fcluster(distance_matrix, 2, criterion='maxclust')\n",
    "y_true = np.array(all_data['Status']).copy()\n",
    "cf_matrix = confusion_matrix(y_true, y_pred)\n",
    "sns.heatmap(cf_matrix/np.sum(cf_matrix), annot=True, \n",
    "            fmt='.2%')"
   ]
  },
  {
   "cell_type": "code",
   "execution_count": 111,
   "id": "99141f31",
   "metadata": {},
   "outputs": [
    {
     "name": "stdout",
     "output_type": "stream",
     "text": [
      "              precision    recall  f1-score   support\n",
      "\n",
      "           0       0.71      1.00      0.83       413\n",
      "           1       0.00      0.00      0.00       165\n",
      "\n",
      "    accuracy                           0.71       578\n",
      "   macro avg       0.36      0.50      0.42       578\n",
      "weighted avg       0.51      0.71      0.59       578\n",
      "\n"
     ]
    }
   ],
   "source": [
    "class_names = ['0', '1']\n",
    "print(classification_report(y_true, y_pred, target_names=class_names))"
   ]
  },
  {
   "cell_type": "code",
   "execution_count": 112,
   "id": "9ce76b6b",
   "metadata": {},
   "outputs": [
    {
     "data": {
      "image/png": "[encoded data removed]",
      "text/plain": [
       "<Figure size 432x288 with 1 Axes>"
      ]
     },
     "metadata": {
      "needs_background": "light"
     },
     "output_type": "display_data"
    }
   ],
   "source": [
    "# Create a dendrogram\n",
    "dn = dendrogram(distance_matrix)\n",
    " \n",
    "# Display the dendogram\n",
    "plt.show()"
   ]
  },
  {
   "cell_type": "code",
   "execution_count": null,
   "id": "d78502fd",
   "metadata": {},
   "outputs": [],
   "source": []
  },
  {
   "cell_type": "code",
   "execution_count": 113,
   "id": "3c62aec5",
   "metadata": {},
   "outputs": [],
   "source": [
    "# matriz de distancias\n",
    "distance_matrix = linkage(drop_st, method = 'ward', metric = 'euclidean')"
   ]
  },
  {
   "cell_type": "code",
   "execution_count": 114,
   "id": "73dd7fab",
   "metadata": {},
   "outputs": [
    {
     "data": {
      "text/plain": [
       "<AxesSubplot:>"
      ]
     },
     "execution_count": 114,
     "metadata": {},
     "output_type": "execute_result"
    },
    {
     "data": {
      "image/png": "[encoded data removed]",
      "text/plain": [
       "<Figure size 432x288 with 2 Axes>"
      ]
     },
     "metadata": {
      "needs_background": "light"
     },
     "output_type": "display_data"
    }
   ],
   "source": [
    "y_pred = fcluster(distance_matrix, 2, criterion='maxclust')\n",
    "y_true = np.array(all_data['Status']).copy()\n",
    "cf_matrix = confusion_matrix(y_true, y_pred)\n",
    "sns.heatmap(cf_matrix/np.sum(cf_matrix), annot=True, \n",
    "            fmt='.2%')"
   ]
  },
  {
   "cell_type": "code",
   "execution_count": 115,
   "id": "c4ace6b5",
   "metadata": {},
   "outputs": [
    {
     "name": "stdout",
     "output_type": "stream",
     "text": [
      "              precision    recall  f1-score   support\n",
      "\n",
      "           0       1.00      0.00      0.01       413\n",
      "           1       0.29      1.00      0.45       165\n",
      "\n",
      "    accuracy                           0.29       578\n",
      "   macro avg       0.64      0.50      0.23       578\n",
      "weighted avg       0.80      0.29      0.13       578\n",
      "\n"
     ]
    }
   ],
   "source": [
    "class_names = ['0', '1']\n",
    "print(classification_report(y_true, y_pred, target_names=class_names))"
   ]
  },
  {
   "cell_type": "code",
   "execution_count": 116,
   "id": "9b049f93",
   "metadata": {},
   "outputs": [
    {
     "data": {
      "image/png": "[encoded data removed]",
      "text/plain": [
       "<Figure size 432x288 with 1 Axes>"
      ]
     },
     "metadata": {
      "needs_background": "light"
     },
     "output_type": "display_data"
    }
   ],
   "source": [
    "# Create a dendrogram\n",
    "dn = dendrogram(distance_matrix)\n",
    " \n",
    "# Display the dendogram\n",
    "plt.show()"
   ]
  }
 ],
 "metadata": {
  "kernelspec": {
   "display_name": "Python 3 (ipykernel)",
   "language": "python",
   "name": "python3"
  },
  "language_info": {
   "codemirror_mode": {
    "name": "ipython",
    "version": 3
   },
   "file_extension": ".py",
   "mimetype": "text/x-python",
   "name": "python",
   "nbconvert_exporter": "python",
   "pygments_lexer": "ipython3",
   "version": "3.9.12"
  }
 },
 "nbformat": 4,
 "nbformat_minor": 5
}
