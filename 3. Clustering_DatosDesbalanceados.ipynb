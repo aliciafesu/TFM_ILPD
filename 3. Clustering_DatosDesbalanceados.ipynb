{
 "cells": [
  {
   "cell_type": "markdown",
   "id": "da4f94a3",
   "metadata": {},
   "source": [
    "# Técnicas de clustering\n",
    "\n",
    "\n",
    "## 1. Importar\n",
    "\n"
   ]
  },
  {
   "cell_type": "code",
   "execution_count": 296,
   "id": "5ebccf12",
   "metadata": {},
   "outputs": [],
   "source": [
    "# librerias\n",
    "\n",
    "# manejo de datos\n",
    "import numpy as np\n",
    "import pandas as pd \n",
    "\n",
    "# normalización\n",
    "from sklearn.preprocessing import normalize\n",
    "\n",
    "# supresión de errores\n",
    "import warnings\n",
    "warnings.filterwarnings('ignore')\n",
    "\n",
    "# gráficos\n",
    "import matplotlib.pyplot as plt\n",
    "import seaborn as sns\n",
    "\n",
    "# cluster kmeans\n",
    "from sklearn.cluster import KMeans\n",
    "from sklearn import preprocessing\n",
    "from sklearn.metrics import confusion_matrix\n",
    "from sklearn.metrics import classification_report\n",
    "\n",
    "# cluster jerárquico \n",
    "import scipy.cluster.hierarchy as sch\n",
    "from scipy.cluster.hierarchy import ward, fcluster, linkage, dendrogram\n",
    "from scipy.spatial.distance import pdist\n",
    "from scipy.cluster.vq import whiten\n",
    "\n",
    "# datos desbalanceados \n",
    "import imblearn\n",
    "from imblearn.over_sampling import RandomOverSampler \n",
    "from imblearn.under_sampling import RandomUnderSampler \n",
    "from imblearn.over_sampling import SMOTE\n",
    "from imblearn.under_sampling import NearMiss\n"
   ]
  },
  {
   "cell_type": "code",
   "execution_count": 297,
   "id": "d9a5c483",
   "metadata": {},
   "outputs": [
    {
     "data": {
      "text/html": [
       "<div>\n",
       "<style scoped>\n",
       "    .dataframe tbody tr th:only-of-type {\n",
       "        vertical-align: middle;\n",
       "    }\n",
       "\n",
       "    .dataframe tbody tr th {\n",
       "        vertical-align: top;\n",
       "    }\n",
       "\n",
       "    .dataframe thead th {\n",
       "        text-align: right;\n",
       "    }\n",
       "</style>\n",
       "<table border=\"1\" class=\"dataframe\">\n",
       "  <thead>\n",
       "    <tr style=\"text-align: right;\">\n",
       "      <th></th>\n",
       "      <th>Age</th>\n",
       "      <th>Gender</th>\n",
       "      <th>TB</th>\n",
       "      <th>DB</th>\n",
       "      <th>Alkphos</th>\n",
       "      <th>Sgpt</th>\n",
       "      <th>Sgot</th>\n",
       "      <th>TP</th>\n",
       "      <th>ALB</th>\n",
       "      <th>AG</th>\n",
       "      <th>Status</th>\n",
       "    </tr>\n",
       "  </thead>\n",
       "  <tbody>\n",
       "    <tr>\n",
       "      <th>0</th>\n",
       "      <td>62</td>\n",
       "      <td>Male</td>\n",
       "      <td>10.9</td>\n",
       "      <td>5.5</td>\n",
       "      <td>699</td>\n",
       "      <td>64</td>\n",
       "      <td>100</td>\n",
       "      <td>7.5</td>\n",
       "      <td>3.2</td>\n",
       "      <td>0.74</td>\n",
       "      <td>1</td>\n",
       "    </tr>\n",
       "    <tr>\n",
       "      <th>1</th>\n",
       "      <td>62</td>\n",
       "      <td>Male</td>\n",
       "      <td>7.3</td>\n",
       "      <td>4.1</td>\n",
       "      <td>490</td>\n",
       "      <td>60</td>\n",
       "      <td>68</td>\n",
       "      <td>7.0</td>\n",
       "      <td>3.3</td>\n",
       "      <td>0.89</td>\n",
       "      <td>1</td>\n",
       "    </tr>\n",
       "    <tr>\n",
       "      <th>2</th>\n",
       "      <td>58</td>\n",
       "      <td>Male</td>\n",
       "      <td>1.0</td>\n",
       "      <td>0.4</td>\n",
       "      <td>182</td>\n",
       "      <td>14</td>\n",
       "      <td>20</td>\n",
       "      <td>6.8</td>\n",
       "      <td>3.4</td>\n",
       "      <td>1.00</td>\n",
       "      <td>1</td>\n",
       "    </tr>\n",
       "    <tr>\n",
       "      <th>3</th>\n",
       "      <td>72</td>\n",
       "      <td>Male</td>\n",
       "      <td>3.9</td>\n",
       "      <td>2.0</td>\n",
       "      <td>195</td>\n",
       "      <td>27</td>\n",
       "      <td>59</td>\n",
       "      <td>7.3</td>\n",
       "      <td>2.4</td>\n",
       "      <td>0.40</td>\n",
       "      <td>1</td>\n",
       "    </tr>\n",
       "    <tr>\n",
       "      <th>4</th>\n",
       "      <td>46</td>\n",
       "      <td>Male</td>\n",
       "      <td>1.8</td>\n",
       "      <td>0.7</td>\n",
       "      <td>208</td>\n",
       "      <td>19</td>\n",
       "      <td>14</td>\n",
       "      <td>7.6</td>\n",
       "      <td>4.4</td>\n",
       "      <td>1.30</td>\n",
       "      <td>1</td>\n",
       "    </tr>\n",
       "    <tr>\n",
       "      <th>...</th>\n",
       "      <td>...</td>\n",
       "      <td>...</td>\n",
       "      <td>...</td>\n",
       "      <td>...</td>\n",
       "      <td>...</td>\n",
       "      <td>...</td>\n",
       "      <td>...</td>\n",
       "      <td>...</td>\n",
       "      <td>...</td>\n",
       "      <td>...</td>\n",
       "      <td>...</td>\n",
       "    </tr>\n",
       "    <tr>\n",
       "      <th>577</th>\n",
       "      <td>60</td>\n",
       "      <td>Male</td>\n",
       "      <td>0.5</td>\n",
       "      <td>0.1</td>\n",
       "      <td>500</td>\n",
       "      <td>20</td>\n",
       "      <td>34</td>\n",
       "      <td>5.9</td>\n",
       "      <td>1.6</td>\n",
       "      <td>0.37</td>\n",
       "      <td>2</td>\n",
       "    </tr>\n",
       "    <tr>\n",
       "      <th>578</th>\n",
       "      <td>40</td>\n",
       "      <td>Male</td>\n",
       "      <td>0.6</td>\n",
       "      <td>0.1</td>\n",
       "      <td>98</td>\n",
       "      <td>35</td>\n",
       "      <td>31</td>\n",
       "      <td>6.0</td>\n",
       "      <td>3.2</td>\n",
       "      <td>1.10</td>\n",
       "      <td>1</td>\n",
       "    </tr>\n",
       "    <tr>\n",
       "      <th>579</th>\n",
       "      <td>52</td>\n",
       "      <td>Male</td>\n",
       "      <td>0.8</td>\n",
       "      <td>0.2</td>\n",
       "      <td>245</td>\n",
       "      <td>48</td>\n",
       "      <td>49</td>\n",
       "      <td>6.4</td>\n",
       "      <td>3.2</td>\n",
       "      <td>1.00</td>\n",
       "      <td>1</td>\n",
       "    </tr>\n",
       "    <tr>\n",
       "      <th>580</th>\n",
       "      <td>31</td>\n",
       "      <td>Male</td>\n",
       "      <td>1.3</td>\n",
       "      <td>0.5</td>\n",
       "      <td>184</td>\n",
       "      <td>29</td>\n",
       "      <td>32</td>\n",
       "      <td>6.8</td>\n",
       "      <td>3.4</td>\n",
       "      <td>1.00</td>\n",
       "      <td>1</td>\n",
       "    </tr>\n",
       "    <tr>\n",
       "      <th>581</th>\n",
       "      <td>38</td>\n",
       "      <td>Male</td>\n",
       "      <td>1.0</td>\n",
       "      <td>0.3</td>\n",
       "      <td>216</td>\n",
       "      <td>21</td>\n",
       "      <td>24</td>\n",
       "      <td>7.3</td>\n",
       "      <td>4.4</td>\n",
       "      <td>1.50</td>\n",
       "      <td>2</td>\n",
       "    </tr>\n",
       "  </tbody>\n",
       "</table>\n",
       "<p>582 rows × 11 columns</p>\n",
       "</div>"
      ],
      "text/plain": [
       "     Age Gender    TB   DB  Alkphos  Sgpt  Sgot   TP  ALB    AG  Status\n",
       "0     62   Male  10.9  5.5      699    64   100  7.5  3.2  0.74       1\n",
       "1     62   Male   7.3  4.1      490    60    68  7.0  3.3  0.89       1\n",
       "2     58   Male   1.0  0.4      182    14    20  6.8  3.4  1.00       1\n",
       "3     72   Male   3.9  2.0      195    27    59  7.3  2.4  0.40       1\n",
       "4     46   Male   1.8  0.7      208    19    14  7.6  4.4  1.30       1\n",
       "..   ...    ...   ...  ...      ...   ...   ...  ...  ...   ...     ...\n",
       "577   60   Male   0.5  0.1      500    20    34  5.9  1.6  0.37       2\n",
       "578   40   Male   0.6  0.1       98    35    31  6.0  3.2  1.10       1\n",
       "579   52   Male   0.8  0.2      245    48    49  6.4  3.2  1.00       1\n",
       "580   31   Male   1.3  0.5      184    29    32  6.8  3.4  1.00       1\n",
       "581   38   Male   1.0  0.3      216    21    24  7.3  4.4  1.50       2\n",
       "\n",
       "[582 rows x 11 columns]"
      ]
     },
     "execution_count": 297,
     "metadata": {},
     "output_type": "execute_result"
    }
   ],
   "source": [
    "# importar datos\n",
    "path ='LiverPatient.csv'\n",
    "\n",
    "raw_data =pd.read_csv(path, header =0)\n",
    "# añadir nombres de las columnas\n",
    "raw_data.columns= ['Age', 'Gender', 'TB', 'DB', 'Alkphos', 'Sgpt', 'Sgot', 'TP', 'ALB', 'AG', 'Status']\n",
    "all_data = raw_data.copy()\n",
    "raw_data.copy()"
   ]
  },
  {
   "cell_type": "markdown",
   "id": "a2bdf95b",
   "metadata": {},
   "source": [
    "## 2. Pre-procesamiento \n",
    "Se transforma la variable 'Gender' a categórica. "
   ]
  },
  {
   "cell_type": "code",
   "execution_count": 298,
   "id": "7944d8ac",
   "metadata": {},
   "outputs": [
    {
     "data": {
      "text/html": [
       "<div>\n",
       "<style scoped>\n",
       "    .dataframe tbody tr th:only-of-type {\n",
       "        vertical-align: middle;\n",
       "    }\n",
       "\n",
       "    .dataframe tbody tr th {\n",
       "        vertical-align: top;\n",
       "    }\n",
       "\n",
       "    .dataframe thead th {\n",
       "        text-align: right;\n",
       "    }\n",
       "</style>\n",
       "<table border=\"1\" class=\"dataframe\">\n",
       "  <thead>\n",
       "    <tr style=\"text-align: right;\">\n",
       "      <th></th>\n",
       "      <th>Age</th>\n",
       "      <th>Gender</th>\n",
       "      <th>TB</th>\n",
       "      <th>DB</th>\n",
       "      <th>Alkphos</th>\n",
       "      <th>Sgpt</th>\n",
       "      <th>Sgot</th>\n",
       "      <th>TP</th>\n",
       "      <th>ALB</th>\n",
       "      <th>AG</th>\n",
       "      <th>Status</th>\n",
       "    </tr>\n",
       "  </thead>\n",
       "  <tbody>\n",
       "    <tr>\n",
       "      <th>0</th>\n",
       "      <td>62</td>\n",
       "      <td>1</td>\n",
       "      <td>10.9</td>\n",
       "      <td>5.5</td>\n",
       "      <td>699</td>\n",
       "      <td>64</td>\n",
       "      <td>100</td>\n",
       "      <td>7.5</td>\n",
       "      <td>3.2</td>\n",
       "      <td>0.74</td>\n",
       "      <td>1</td>\n",
       "    </tr>\n",
       "    <tr>\n",
       "      <th>1</th>\n",
       "      <td>62</td>\n",
       "      <td>1</td>\n",
       "      <td>7.3</td>\n",
       "      <td>4.1</td>\n",
       "      <td>490</td>\n",
       "      <td>60</td>\n",
       "      <td>68</td>\n",
       "      <td>7.0</td>\n",
       "      <td>3.3</td>\n",
       "      <td>0.89</td>\n",
       "      <td>1</td>\n",
       "    </tr>\n",
       "    <tr>\n",
       "      <th>2</th>\n",
       "      <td>58</td>\n",
       "      <td>1</td>\n",
       "      <td>1.0</td>\n",
       "      <td>0.4</td>\n",
       "      <td>182</td>\n",
       "      <td>14</td>\n",
       "      <td>20</td>\n",
       "      <td>6.8</td>\n",
       "      <td>3.4</td>\n",
       "      <td>1.00</td>\n",
       "      <td>1</td>\n",
       "    </tr>\n",
       "    <tr>\n",
       "      <th>3</th>\n",
       "      <td>72</td>\n",
       "      <td>1</td>\n",
       "      <td>3.9</td>\n",
       "      <td>2.0</td>\n",
       "      <td>195</td>\n",
       "      <td>27</td>\n",
       "      <td>59</td>\n",
       "      <td>7.3</td>\n",
       "      <td>2.4</td>\n",
       "      <td>0.40</td>\n",
       "      <td>1</td>\n",
       "    </tr>\n",
       "    <tr>\n",
       "      <th>4</th>\n",
       "      <td>46</td>\n",
       "      <td>1</td>\n",
       "      <td>1.8</td>\n",
       "      <td>0.7</td>\n",
       "      <td>208</td>\n",
       "      <td>19</td>\n",
       "      <td>14</td>\n",
       "      <td>7.6</td>\n",
       "      <td>4.4</td>\n",
       "      <td>1.30</td>\n",
       "      <td>1</td>\n",
       "    </tr>\n",
       "  </tbody>\n",
       "</table>\n",
       "</div>"
      ],
      "text/plain": [
       "   Age  Gender    TB   DB  Alkphos  Sgpt  Sgot   TP  ALB    AG  Status\n",
       "0   62       1  10.9  5.5      699    64   100  7.5  3.2  0.74       1\n",
       "1   62       1   7.3  4.1      490    60    68  7.0  3.3  0.89       1\n",
       "2   58       1   1.0  0.4      182    14    20  6.8  3.4  1.00       1\n",
       "3   72       1   3.9  2.0      195    27    59  7.3  2.4  0.40       1\n",
       "4   46       1   1.8  0.7      208    19    14  7.6  4.4  1.30       1"
      ]
     },
     "execution_count": 298,
     "metadata": {},
     "output_type": "execute_result"
    }
   ],
   "source": [
    "# Transformar gender a categorica \n",
    "all_data['Gender'].replace('Female',0 ,inplace=True)\n",
    "all_data['Gender'].replace('Male',1,inplace=True)\n",
    "all_data.head()"
   ]
  },
  {
   "cell_type": "code",
   "execution_count": 299,
   "id": "e847bfb2",
   "metadata": {},
   "outputs": [
    {
     "name": "stdout",
     "output_type": "stream",
     "text": [
      "Data whitout NaN Shape: (578, 11)\n"
     ]
    }
   ],
   "source": [
    "# Quitar missing values\n",
    "all_data = all_data.dropna()\n",
    "print ('Data whitout NaN Shape:', all_data.shape)"
   ]
  },
  {
   "cell_type": "markdown",
   "id": "a2dbd769",
   "metadata": {},
   "source": [
    "## 2.1. Datos desbalanceados\n",
    "\n",
    "Como se ha visto en el EDA, la variable 'Status' está fuertemente desbalanceada, así que se ha decidido evaluar algunas estrategias que ayudan a minimizar este problema: \n",
    "- Random oversampling: se generan datos aleatoriamente para que caso con menos datos iguale en número al que tiene más. \n",
    "- Random undersampling: de manera contraria, se reduce el dataset de manera aleatoria hasta que se igualan por abajo. \n",
    "- NearMiss: es otra técnica de undersampling que igualará las dos categorías\n",
    "- SMOTE: utiliza k-vecinos mas cercanos para generar nuevos datos e igualar las categorías en el número más alto"
   ]
  },
  {
   "cell_type": "code",
   "execution_count": 300,
   "id": "6829f292",
   "metadata": {},
   "outputs": [
    {
     "data": {
      "text/plain": [
       "1    165\n",
       "2    165\n",
       "Name: Status, dtype: int64"
      ]
     },
     "execution_count": 300,
     "metadata": {},
     "output_type": "execute_result"
    }
   ],
   "source": [
    "# Random undersampling\n",
    "undersample = RandomUnderSampler(sampling_strategy='majority')\n",
    "X_resampled, y_resampled = undersample.fit_resample(all_data.iloc[:,0:10], all_data['Status'])\n",
    "data_undersampled = pd.concat([pd.DataFrame(X_resampled), pd.DataFrame(y_resampled)], axis=1)\n",
    "data_undersampled.columns = all_data.columns\n",
    "data_undersampled['Status'].value_counts()"
   ]
  },
  {
   "cell_type": "code",
   "execution_count": 301,
   "id": "dd5edaf8",
   "metadata": {},
   "outputs": [
    {
     "data": {
      "text/plain": [
       "1    165\n",
       "2    165\n",
       "Name: Status, dtype: int64"
      ]
     },
     "execution_count": 301,
     "metadata": {},
     "output_type": "execute_result"
    }
   ],
   "source": [
    "# NearMiss\n",
    "nm = NearMiss()\n",
    "\n",
    "x_nm, y_nm = nm.fit_resample(all_data.iloc[:,0:10], all_data['Status'])\n",
    "\n",
    "data_nm = pd.concat([pd.DataFrame(x_nm), pd.DataFrame(y_nm)], axis=1)\n",
    "data_nm.columns = all_data.columns\n",
    "data_nm['Status'].value_counts()"
   ]
  },
  {
   "cell_type": "code",
   "execution_count": 302,
   "id": "83cf6f8e",
   "metadata": {},
   "outputs": [
    {
     "data": {
      "text/plain": [
       "1    413\n",
       "2    413\n",
       "Name: Status, dtype: int64"
      ]
     },
     "execution_count": 302,
     "metadata": {},
     "output_type": "execute_result"
    }
   ],
   "source": [
    "# random oversampling \n",
    "oversample = RandomOverSampler(sampling_strategy='minority')\n",
    "X_resampled, y_resampled = oversample.fit_resample(all_data.iloc[:,0:10], all_data['Status'])\n",
    "data_oversampled = pd.concat([pd.DataFrame(X_resampled), pd.DataFrame(y_resampled)], axis=1)\n",
    "data_oversampled.columns = all_data.columns\n",
    "data_oversampled['Status'].value_counts()"
   ]
  },
  {
   "cell_type": "code",
   "execution_count": 303,
   "id": "7ec31bf2",
   "metadata": {},
   "outputs": [
    {
     "data": {
      "text/plain": [
       "1    413\n",
       "2    413\n",
       "Name: Status, dtype: int64"
      ]
     },
     "execution_count": 303,
     "metadata": {},
     "output_type": "execute_result"
    }
   ],
   "source": [
    "#SMOTE\n",
    "sm = SMOTE()\n",
    "x_sm, y_sm = sm.fit_resample(all_data.iloc[:,0:10], all_data['Status'])\n",
    "data_sm = pd.concat([pd.DataFrame(x_sm), pd.DataFrame(y_sm)], axis=1)\n",
    "data_sm.columns = all_data.columns\n",
    "data_sm['Status'].value_counts()"
   ]
  },
  {
   "cell_type": "code",
   "execution_count": 304,
   "id": "5f8d8d84",
   "metadata": {},
   "outputs": [],
   "source": [
    "# seleccionar método de normalización \n",
    "#whiten_data \n",
    "#mm_data\n",
    "#zscore\n",
    "technique = data_nm.copy()\n",
    "drop_st = technique.drop(['Status'], axis=1)"
   ]
  },
  {
   "cell_type": "markdown",
   "id": "5b7ffc2d",
   "metadata": {},
   "source": [
    "## 3. K-means \n",
    "\n",
    "Las observaciones se van a agrupar en un número pre definido de clusters, estas agrupaciones se realizarán intentando minimizar la suma de la varianza interna de cada grupo. Este algoritmo necesita como input el número de clusters que va a generar. Asignará cada observación al centroide con el que tenga menos distancia. El valor del centroide se recalculará cada vez que se asigne un nuevo dato a ese cluster. \n",
    "Es una de las técnicas de clustering más utilizadas, pero tiene algunas desventajas, como la necesidad de indicar por adelantado el número de clusters o una asignación aleatoria de los centroides que realiza al principio. Además si el conjunto de datos tiene muchos outliers (como es el caso de este dataset) este tipo de técnica también presenta problemas. "
   ]
  },
  {
   "cell_type": "code",
   "execution_count": 305,
   "id": "31abc625",
   "metadata": {},
   "outputs": [],
   "source": [
    "k = 2\n",
    "\n",
    "kmeans = KMeans(\n",
    "    init=\"random\",\n",
    "    n_clusters=k,\n",
    "    n_init=10,\n",
    "    max_iter=300,\n",
    "    random_state=42 \n",
    ")\n",
    "kmeans.fit(drop_st)\n",
    "labels = kmeans.labels_\n"
   ]
  },
  {
   "cell_type": "code",
   "execution_count": 306,
   "id": "097791ca",
   "metadata": {},
   "outputs": [],
   "source": [
    "y_true = np.array(technique['Status']).copy()\n",
    "y_true[y_true == 1] = 0\n",
    "y_true[y_true == 2] = 1\n"
   ]
  },
  {
   "cell_type": "markdown",
   "id": "abfc943c",
   "metadata": {},
   "source": [
    "### 3.1. K-means: métricas\n",
    "\n",
    "Se utilizará una matriz de confusión para resumir los resultados de la clasificación por k-means con k=2. Se comprobarán los resultados frente a las dos categorías de la variable 'Status. "
   ]
  },
  {
   "cell_type": "code",
   "execution_count": 307,
   "id": "f8268a27",
   "metadata": {
    "scrolled": true
   },
   "outputs": [
    {
     "data": {
      "text/plain": [
       "<AxesSubplot:>"
      ]
     },
     "execution_count": 307,
     "metadata": {},
     "output_type": "execute_result"
    },
    {
     "data": {
      "image/png": "[encoded data removed]",
      "text/plain": [
       "<Figure size 432x288 with 2 Axes>"
      ]
     },
     "metadata": {
      "needs_background": "light"
     },
     "output_type": "display_data"
    }
   ],
   "source": [
    "# matriz de confusion \n",
    "cf_matrix = confusion_matrix(y_true, labels)\n",
    "sns.heatmap(cf_matrix/np.sum(cf_matrix), cmap=\"YlGnBu\", annot=True, \n",
    "            fmt='.2%')"
   ]
  },
  {
   "cell_type": "code",
   "execution_count": 308,
   "id": "a2560f0a",
   "metadata": {},
   "outputs": [
    {
     "name": "stdout",
     "output_type": "stream",
     "text": [
      "              precision    recall  f1-score   support\n",
      "\n",
      "           0       0.52      0.99      0.68       165\n",
      "           1       0.86      0.07      0.13       165\n",
      "\n",
      "    accuracy                           0.53       330\n",
      "   macro avg       0.69      0.53      0.41       330\n",
      "weighted avg       0.69      0.53      0.41       330\n",
      "\n"
     ]
    }
   ],
   "source": [
    "class_names = ['0', '1']\n",
    "print(classification_report(y_true, labels, target_names=class_names))"
   ]
  },
  {
   "cell_type": "markdown",
   "id": "d99d470c",
   "metadata": {},
   "source": [
    "## 4. Cluster Jerárquico\n",
    "\n",
    "Estos algoritmos no requieren que se predefina el número de clusters. Normalmente se represetan ráficamente en forma de dendrograma. Se pueden clasificar en dos grupos, los aglomerativos y los divisivos. Las técnicas de cluster aglomerativo empiezan con todos los datos separados y van progresivamente iterando de manera que los mas cercanos se unen. De manera contraria los divisivos empiezan con todas las observaciones juntas y se van separando en función de la distancia entre puntos. Existen varios métodos que permiten medir dicha distancia: \n",
    "- Single: la menor distancia entre dos puntos de cada cluster\n",
    "- Complete: mayor distancia entre dos puntos de cada cluster \n",
    "- Mean: media entre todos los puntos de los dos clusters \n",
    "- Centroid: distancia entre los centroides de los dos clusters \n",
    "- Ward: varianza mínima en un cluster\n",
    "\n",
    "\n",
    "### 4.1. Clustering de una unión"
   ]
  },
  {
   "cell_type": "code",
   "execution_count": 309,
   "id": "1b2520a2",
   "metadata": {},
   "outputs": [],
   "source": [
    "# matriz de distancias\n",
    "distance_matrix = linkage(drop_st, method = 'single', metric = 'euclidean')"
   ]
  },
  {
   "cell_type": "code",
   "execution_count": 310,
   "id": "cdc61459",
   "metadata": {},
   "outputs": [
    {
     "data": {
      "text/plain": [
       "<AxesSubplot:>"
      ]
     },
     "execution_count": 310,
     "metadata": {},
     "output_type": "execute_result"
    },
    {
     "data": {
      "image/png": "[encoded data removed]",
      "text/plain": [
       "<Figure size 432x288 with 2 Axes>"
      ]
     },
     "metadata": {
      "needs_background": "light"
     },
     "output_type": "display_data"
    }
   ],
   "source": [
    "y_pred = fcluster(distance_matrix, 2, criterion='maxclust')\n",
    "y_true = np.array(technique['Status']).copy()\n",
    "cf_matrix = confusion_matrix(y_true, y_pred)\n",
    "sns.heatmap(cf_matrix/np.sum(cf_matrix), cmap=\"YlGnBu\", annot=True, \n",
    "            fmt='.2%')"
   ]
  },
  {
   "cell_type": "code",
   "execution_count": 311,
   "id": "e5054a14",
   "metadata": {},
   "outputs": [
    {
     "name": "stdout",
     "output_type": "stream",
     "text": [
      "              precision    recall  f1-score   support\n",
      "\n",
      "           0       0.50      1.00      0.67       165\n",
      "           1       1.00      0.01      0.01       165\n",
      "\n",
      "    accuracy                           0.50       330\n",
      "   macro avg       0.75      0.50      0.34       330\n",
      "weighted avg       0.75      0.50      0.34       330\n",
      "\n"
     ]
    }
   ],
   "source": [
    "class_names = ['0', '1']\n",
    "print(classification_report(y_true, y_pred, target_names=class_names))"
   ]
  },
  {
   "cell_type": "markdown",
   "id": "54ee379f",
   "metadata": {},
   "source": [
    "### 4.2. Clustering de unión completa "
   ]
  },
  {
   "cell_type": "code",
   "execution_count": 312,
   "id": "9237ae5d",
   "metadata": {},
   "outputs": [],
   "source": [
    "# matriz de distancias\n",
    "distance_matrix = linkage(drop_st, method = 'complete', metric = 'euclidean')"
   ]
  },
  {
   "cell_type": "code",
   "execution_count": 313,
   "id": "5dcb5895",
   "metadata": {},
   "outputs": [
    {
     "data": {
      "text/plain": [
       "<AxesSubplot:>"
      ]
     },
     "execution_count": 313,
     "metadata": {},
     "output_type": "execute_result"
    },
    {
     "data": {
      "image/png": "[encoded data removed]",
      "text/plain": [
       "<Figure size 432x288 with 2 Axes>"
      ]
     },
     "metadata": {
      "needs_background": "light"
     },
     "output_type": "display_data"
    }
   ],
   "source": [
    "y_pred = fcluster(distance_matrix, 2, criterion='maxclust')\n",
    "y_true = np.array(technique['Status']).copy()\n",
    "cf_matrix = confusion_matrix(y_true, y_pred)\n",
    "sns.heatmap(cf_matrix/np.sum(cf_matrix), cmap=\"YlGnBu\", annot=True, \n",
    "            fmt='.2%')"
   ]
  },
  {
   "cell_type": "code",
   "execution_count": 314,
   "id": "69d4c63d",
   "metadata": {},
   "outputs": [
    {
     "name": "stdout",
     "output_type": "stream",
     "text": [
      "              precision    recall  f1-score   support\n",
      "\n",
      "           0       0.50      1.00      0.67       165\n",
      "           1       1.00      0.01      0.01       165\n",
      "\n",
      "    accuracy                           0.50       330\n",
      "   macro avg       0.75      0.50      0.34       330\n",
      "weighted avg       0.75      0.50      0.34       330\n",
      "\n"
     ]
    }
   ],
   "source": [
    "class_names = ['0', '1']\n",
    "print(classification_report(y_true, y_pred, target_names=class_names))"
   ]
  },
  {
   "cell_type": "markdown",
   "id": "9361a2cc",
   "metadata": {},
   "source": [
    "### 4.3. Clustering de unión media"
   ]
  },
  {
   "cell_type": "code",
   "execution_count": 315,
   "id": "81a6f3a4",
   "metadata": {},
   "outputs": [],
   "source": [
    "# matriz de distancias\n",
    "distance_matrix = linkage(drop_st, method = 'average', metric = 'euclidean')"
   ]
  },
  {
   "cell_type": "code",
   "execution_count": 316,
   "id": "9a127fd5",
   "metadata": {},
   "outputs": [
    {
     "data": {
      "text/plain": [
       "<AxesSubplot:>"
      ]
     },
     "execution_count": 316,
     "metadata": {},
     "output_type": "execute_result"
    },
    {
     "data": {
      "image/png": "[encoded data removed]",
      "text/plain": [
       "<Figure size 432x288 with 2 Axes>"
      ]
     },
     "metadata": {
      "needs_background": "light"
     },
     "output_type": "display_data"
    }
   ],
   "source": [
    "y_pred = fcluster(distance_matrix, 2, criterion='maxclust')\n",
    "y_true = np.array(technique['Status']).copy()\n",
    "cf_matrix = confusion_matrix(y_true, y_pred)\n",
    "sns.heatmap(cf_matrix/np.sum(cf_matrix), cmap=\"YlGnBu\", annot=True, \n",
    "            fmt='.2%')"
   ]
  },
  {
   "cell_type": "code",
   "execution_count": 317,
   "id": "8b90c99d",
   "metadata": {},
   "outputs": [
    {
     "name": "stdout",
     "output_type": "stream",
     "text": [
      "              precision    recall  f1-score   support\n",
      "\n",
      "           0       0.50      1.00      0.67       165\n",
      "           1       1.00      0.01      0.01       165\n",
      "\n",
      "    accuracy                           0.50       330\n",
      "   macro avg       0.75      0.50      0.34       330\n",
      "weighted avg       0.75      0.50      0.34       330\n",
      "\n"
     ]
    }
   ],
   "source": [
    "class_names = ['0', '1']\n",
    "print(classification_report(y_true, y_pred, target_names=class_names))"
   ]
  },
  {
   "cell_type": "markdown",
   "id": "a93011f1",
   "metadata": {},
   "source": [
    "### 4.4. Clustering de unión de centroides"
   ]
  },
  {
   "cell_type": "code",
   "execution_count": 318,
   "id": "9d807253",
   "metadata": {},
   "outputs": [],
   "source": [
    "# matriz de distancias\n",
    "distance_matrix = linkage(drop_st, method = 'centroid', metric = 'euclidean')"
   ]
  },
  {
   "cell_type": "code",
   "execution_count": 319,
   "id": "dee763ad",
   "metadata": {},
   "outputs": [
    {
     "data": {
      "text/plain": [
       "<AxesSubplot:>"
      ]
     },
     "execution_count": 319,
     "metadata": {},
     "output_type": "execute_result"
    },
    {
     "data": {
      "image/png": "[encoded data removed]",
      "text/plain": [
       "<Figure size 432x288 with 2 Axes>"
      ]
     },
     "metadata": {
      "needs_background": "light"
     },
     "output_type": "display_data"
    }
   ],
   "source": [
    "y_pred = fcluster(distance_matrix, 2, criterion='maxclust')\n",
    "y_true = np.array(technique['Status']).copy()\n",
    "cf_matrix = confusion_matrix(y_true, y_pred)\n",
    "sns.heatmap(cf_matrix/np.sum(cf_matrix),  cmap=\"YlGnBu\",annot=True, \n",
    "            fmt='.2%')"
   ]
  },
  {
   "cell_type": "code",
   "execution_count": 320,
   "id": "99141f31",
   "metadata": {},
   "outputs": [
    {
     "name": "stdout",
     "output_type": "stream",
     "text": [
      "              precision    recall  f1-score   support\n",
      "\n",
      "           0       0.50      1.00      0.67       165\n",
      "           1       1.00      0.01      0.01       165\n",
      "\n",
      "    accuracy                           0.50       330\n",
      "   macro avg       0.75      0.50      0.34       330\n",
      "weighted avg       0.75      0.50      0.34       330\n",
      "\n"
     ]
    }
   ],
   "source": [
    "class_names = ['0', '1']\n",
    "print(classification_report(y_true, y_pred, target_names=class_names))"
   ]
  },
  {
   "cell_type": "markdown",
   "id": "d0f8087a",
   "metadata": {},
   "source": [
    "### 4.5. Clustering por distancia de Ward "
   ]
  },
  {
   "cell_type": "code",
   "execution_count": 321,
   "id": "3c62aec5",
   "metadata": {},
   "outputs": [],
   "source": [
    "# matriz de distancias\n",
    "distance_matrix = linkage(drop_st, method = 'ward', metric = 'euclidean')"
   ]
  },
  {
   "cell_type": "code",
   "execution_count": 322,
   "id": "73dd7fab",
   "metadata": {},
   "outputs": [
    {
     "data": {
      "text/plain": [
       "<AxesSubplot:>"
      ]
     },
     "execution_count": 322,
     "metadata": {},
     "output_type": "execute_result"
    },
    {
     "data": {
      "image/png": "[encoded data removed]",
      "text/plain": [
       "<Figure size 432x288 with 2 Axes>"
      ]
     },
     "metadata": {
      "needs_background": "light"
     },
     "output_type": "display_data"
    }
   ],
   "source": [
    "y_pred = fcluster(distance_matrix, 2, criterion='maxclust')\n",
    "y_true = np.array(technique['Status']).copy()\n",
    "cf_matrix = confusion_matrix(y_true, y_pred)\n",
    "sns.heatmap(cf_matrix/np.sum(cf_matrix), cmap=\"YlGnBu\", annot=True, \n",
    "            fmt='.2%')"
   ]
  },
  {
   "cell_type": "code",
   "execution_count": 323,
   "id": "c4ace6b5",
   "metadata": {},
   "outputs": [
    {
     "name": "stdout",
     "output_type": "stream",
     "text": [
      "              precision    recall  f1-score   support\n",
      "\n",
      "           0       0.52      0.99      0.68       165\n",
      "           1       0.86      0.07      0.13       165\n",
      "\n",
      "    accuracy                           0.53       330\n",
      "   macro avg       0.69      0.53      0.41       330\n",
      "weighted avg       0.69      0.53      0.41       330\n",
      "\n"
     ]
    }
   ],
   "source": [
    "class_names = ['0', '1']\n",
    "print(classification_report(y_true, y_pred, target_names=class_names))"
   ]
  },
  {
   "cell_type": "code",
   "execution_count": null,
   "id": "fc406226",
   "metadata": {},
   "outputs": [],
   "source": []
  }
 ],
 "metadata": {
  "kernelspec": {
   "display_name": "Python 3 (ipykernel)",
   "language": "python",
   "name": "python3"
  },
  "language_info": {
   "codemirror_mode": {
    "name": "ipython",
    "version": 3
   },
   "file_extension": ".py",
   "mimetype": "text/x-python",
   "name": "python",
   "nbconvert_exporter": "python",
   "pygments_lexer": "ipython3",
   "version": "3.9.12"
  }
 },
 "nbformat": 4,
 "nbformat_minor": 5
}
